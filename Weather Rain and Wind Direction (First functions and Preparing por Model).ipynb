{
 "cells": [
  {
   "cell_type": "code",
   "execution_count": 1,
   "metadata": {},
   "outputs": [],
   "source": [
    "weather = '/home/vant/Escritorio/MasterDataScience/Clases/Python/weather_year.csv'"
   ]
  },
  {
   "cell_type": "code",
   "execution_count": 2,
   "metadata": {},
   "outputs": [
    {
     "name": "stdout",
     "output_type": "stream",
     "text": [
      "367\n",
      "CPU times: user 2.5 ms, sys: 4.41 ms, total: 6.91 ms\n",
      "Wall time: 108 ms\n"
     ]
    }
   ],
   "source": [
    "%%time\n",
    "!cat {weather} |wc -l"
   ]
  },
  {
   "cell_type": "code",
   "execution_count": 3,
   "metadata": {},
   "outputs": [],
   "source": [
    "import pandas as pd\n",
    "import matplotlib.pyplot as plt\n",
    "import plotly as py\n",
    "%matplotlib inline"
   ]
  },
  {
   "cell_type": "code",
   "execution_count": 4,
   "metadata": {},
   "outputs": [
    {
     "data": {
      "text/html": [
       "<div>\n",
       "<style scoped>\n",
       "    .dataframe tbody tr th:only-of-type {\n",
       "        vertical-align: middle;\n",
       "    }\n",
       "\n",
       "    .dataframe tbody tr th {\n",
       "        vertical-align: top;\n",
       "    }\n",
       "\n",
       "    .dataframe thead th {\n",
       "        text-align: right;\n",
       "    }\n",
       "</style>\n",
       "<table border=\"1\" class=\"dataframe\">\n",
       "  <thead>\n",
       "    <tr style=\"text-align: right;\">\n",
       "      <th></th>\n",
       "      <th>EDT</th>\n",
       "      <th>Max TemperatureF</th>\n",
       "      <th>Mean TemperatureF</th>\n",
       "      <th>Min TemperatureF</th>\n",
       "      <th>Max Dew PointF</th>\n",
       "      <th>MeanDew PointF</th>\n",
       "      <th>Min DewpointF</th>\n",
       "      <th>Max Humidity</th>\n",
       "      <th>Mean Humidity</th>\n",
       "      <th>Min Humidity</th>\n",
       "      <th>Max Sea Level PressureIn</th>\n",
       "      <th>Mean Sea Level PressureIn</th>\n",
       "      <th>Min Sea Level PressureIn</th>\n",
       "      <th>Max VisibilityMiles</th>\n",
       "      <th>Mean VisibilityMiles</th>\n",
       "      <th>Min VisibilityMiles</th>\n",
       "      <th>Max Wind SpeedMPH</th>\n",
       "      <th>Mean Wind SpeedMPH</th>\n",
       "      <th>Max Gust SpeedMPH</th>\n",
       "      <th>PrecipitationIn</th>\n",
       "      <th>CloudCover</th>\n",
       "      <th>Events</th>\n",
       "      <th>WindDirDegrees</th>\n",
       "    </tr>\n",
       "  </thead>\n",
       "  <tbody>\n",
       "    <tr>\n",
       "      <th>0</th>\n",
       "      <td>2012-03-10</td>\n",
       "      <td>56</td>\n",
       "      <td>40</td>\n",
       "      <td>24</td>\n",
       "      <td>24</td>\n",
       "      <td>20</td>\n",
       "      <td>16</td>\n",
       "      <td>74</td>\n",
       "      <td>50</td>\n",
       "      <td>26</td>\n",
       "      <td>30.53</td>\n",
       "      <td>30.45</td>\n",
       "      <td>30.34</td>\n",
       "      <td>10</td>\n",
       "      <td>10</td>\n",
       "      <td>10</td>\n",
       "      <td>13</td>\n",
       "      <td>6</td>\n",
       "      <td>17.0</td>\n",
       "      <td>0.00</td>\n",
       "      <td>0</td>\n",
       "      <td>NaN</td>\n",
       "      <td>138</td>\n",
       "    </tr>\n",
       "    <tr>\n",
       "      <th>1</th>\n",
       "      <td>2012-03-11</td>\n",
       "      <td>67</td>\n",
       "      <td>49</td>\n",
       "      <td>30</td>\n",
       "      <td>43</td>\n",
       "      <td>31</td>\n",
       "      <td>24</td>\n",
       "      <td>78</td>\n",
       "      <td>53</td>\n",
       "      <td>28</td>\n",
       "      <td>30.37</td>\n",
       "      <td>30.27</td>\n",
       "      <td>30.13</td>\n",
       "      <td>10</td>\n",
       "      <td>10</td>\n",
       "      <td>10</td>\n",
       "      <td>22</td>\n",
       "      <td>7</td>\n",
       "      <td>32.0</td>\n",
       "      <td>T</td>\n",
       "      <td>1</td>\n",
       "      <td>Rain</td>\n",
       "      <td>163</td>\n",
       "    </tr>\n",
       "    <tr>\n",
       "      <th>2</th>\n",
       "      <td>2012-03-12</td>\n",
       "      <td>71</td>\n",
       "      <td>62</td>\n",
       "      <td>53</td>\n",
       "      <td>59</td>\n",
       "      <td>55</td>\n",
       "      <td>43</td>\n",
       "      <td>90</td>\n",
       "      <td>76</td>\n",
       "      <td>61</td>\n",
       "      <td>30.13</td>\n",
       "      <td>29.99</td>\n",
       "      <td>29.88</td>\n",
       "      <td>10</td>\n",
       "      <td>10</td>\n",
       "      <td>6</td>\n",
       "      <td>24</td>\n",
       "      <td>14</td>\n",
       "      <td>36.0</td>\n",
       "      <td>0.03</td>\n",
       "      <td>6</td>\n",
       "      <td>Rain</td>\n",
       "      <td>190</td>\n",
       "    </tr>\n",
       "    <tr>\n",
       "      <th>3</th>\n",
       "      <td>2012-03-13</td>\n",
       "      <td>76</td>\n",
       "      <td>63</td>\n",
       "      <td>50</td>\n",
       "      <td>57</td>\n",
       "      <td>53</td>\n",
       "      <td>47</td>\n",
       "      <td>93</td>\n",
       "      <td>66</td>\n",
       "      <td>38</td>\n",
       "      <td>30.12</td>\n",
       "      <td>30.06</td>\n",
       "      <td>29.97</td>\n",
       "      <td>10</td>\n",
       "      <td>10</td>\n",
       "      <td>4</td>\n",
       "      <td>16</td>\n",
       "      <td>5</td>\n",
       "      <td>24.0</td>\n",
       "      <td>0.00</td>\n",
       "      <td>0</td>\n",
       "      <td>NaN</td>\n",
       "      <td>242</td>\n",
       "    </tr>\n",
       "    <tr>\n",
       "      <th>4</th>\n",
       "      <td>2012-03-14</td>\n",
       "      <td>80</td>\n",
       "      <td>62</td>\n",
       "      <td>44</td>\n",
       "      <td>58</td>\n",
       "      <td>52</td>\n",
       "      <td>43</td>\n",
       "      <td>93</td>\n",
       "      <td>68</td>\n",
       "      <td>42</td>\n",
       "      <td>30.15</td>\n",
       "      <td>30.10</td>\n",
       "      <td>30.04</td>\n",
       "      <td>10</td>\n",
       "      <td>10</td>\n",
       "      <td>10</td>\n",
       "      <td>16</td>\n",
       "      <td>6</td>\n",
       "      <td>22.0</td>\n",
       "      <td>0.00</td>\n",
       "      <td>0</td>\n",
       "      <td>NaN</td>\n",
       "      <td>202</td>\n",
       "    </tr>\n",
       "  </tbody>\n",
       "</table>\n",
       "</div>"
      ],
      "text/plain": [
       "         EDT  Max TemperatureF  Mean TemperatureF  Min TemperatureF  \\\n",
       "0 2012-03-10                56                 40                24   \n",
       "1 2012-03-11                67                 49                30   \n",
       "2 2012-03-12                71                 62                53   \n",
       "3 2012-03-13                76                 63                50   \n",
       "4 2012-03-14                80                 62                44   \n",
       "\n",
       "   Max Dew PointF  MeanDew PointF  Min DewpointF  Max Humidity  \\\n",
       "0              24              20             16            74   \n",
       "1              43              31             24            78   \n",
       "2              59              55             43            90   \n",
       "3              57              53             47            93   \n",
       "4              58              52             43            93   \n",
       "\n",
       "    Mean Humidity   Min Humidity   Max Sea Level PressureIn  \\\n",
       "0              50             26                      30.53   \n",
       "1              53             28                      30.37   \n",
       "2              76             61                      30.13   \n",
       "3              66             38                      30.12   \n",
       "4              68             42                      30.15   \n",
       "\n",
       "    Mean Sea Level PressureIn   Min Sea Level PressureIn  \\\n",
       "0                       30.45                      30.34   \n",
       "1                       30.27                      30.13   \n",
       "2                       29.99                      29.88   \n",
       "3                       30.06                      29.97   \n",
       "4                       30.10                      30.04   \n",
       "\n",
       "    Max VisibilityMiles   Mean VisibilityMiles   Min VisibilityMiles  \\\n",
       "0                    10                     10                    10   \n",
       "1                    10                     10                    10   \n",
       "2                    10                     10                     6   \n",
       "3                    10                     10                     4   \n",
       "4                    10                     10                    10   \n",
       "\n",
       "    Max Wind SpeedMPH   Mean Wind SpeedMPH   Max Gust SpeedMPH  \\\n",
       "0                  13                    6                17.0   \n",
       "1                  22                    7                32.0   \n",
       "2                  24                   14                36.0   \n",
       "3                  16                    5                24.0   \n",
       "4                  16                    6                22.0   \n",
       "\n",
       "  PrecipitationIn   CloudCover  Events   WindDirDegrees  \n",
       "0            0.00            0     NaN              138  \n",
       "1               T            1    Rain              163  \n",
       "2            0.03            6    Rain              190  \n",
       "3            0.00            0     NaN              242  \n",
       "4            0.00            0     NaN              202  "
      ]
     },
     "execution_count": 4,
     "metadata": {},
     "output_type": "execute_result"
    }
   ],
   "source": [
    "pd.options.display.max_columns=None\n",
    "dfw = pd.read_csv(weather, parse_dates=[0])\n",
    "dfw.head()"
   ]
  },
  {
   "cell_type": "code",
   "execution_count": 5,
   "metadata": {},
   "outputs": [
    {
     "data": {
      "text/plain": [
       "EDT                           datetime64[ns]\n",
       "Max TemperatureF                       int64\n",
       "Mean TemperatureF                      int64\n",
       "Min TemperatureF                       int64\n",
       "Max Dew PointF                         int64\n",
       "MeanDew PointF                         int64\n",
       "Min DewpointF                          int64\n",
       "Max Humidity                           int64\n",
       " Mean Humidity                         int64\n",
       " Min Humidity                          int64\n",
       " Max Sea Level PressureIn            float64\n",
       " Mean Sea Level PressureIn           float64\n",
       " Min Sea Level PressureIn            float64\n",
       " Max VisibilityMiles                   int64\n",
       " Mean VisibilityMiles                  int64\n",
       " Min VisibilityMiles                   int64\n",
       " Max Wind SpeedMPH                     int64\n",
       " Mean Wind SpeedMPH                    int64\n",
       " Max Gust SpeedMPH                   float64\n",
       "PrecipitationIn                       object\n",
       " CloudCover                            int64\n",
       " Events                               object\n",
       " WindDirDegrees                        int64\n",
       "dtype: object"
      ]
     },
     "execution_count": 5,
     "metadata": {},
     "output_type": "execute_result"
    }
   ],
   "source": [
    "dfw.dtypes #dfw.describe()#dfw.count()#dfw.shape"
   ]
  },
  {
   "cell_type": "code",
   "execution_count": 6,
   "metadata": {},
   "outputs": [],
   "source": [
    "dfw.columns = ['Date', 'MaxT', 'MeanT', 'MinT', 'MXDPT', 'MNDPT', 'MIDPT',\n",
    "              'MaxH', 'MeanH', 'MinH', 'MaxSea', 'MeanSea', 'MinSea', 'MaxVis',\n",
    "              'MeanVis', 'MinVis', 'MaxWind', 'MeanWind', 'MaxGust', 'Preci',\n",
    "              'Cloud', 'Events', 'WindDir']"
   ]
  },
  {
   "cell_type": "code",
   "execution_count": 7,
   "metadata": {},
   "outputs": [],
   "source": [
    "dfw1 = dfw[['Date', 'MeanT', 'MeanH', 'MeanSea', 'MeanWind', 'Preci', 'Events', 'WindDir' ]]"
   ]
  },
  {
   "cell_type": "code",
   "execution_count": 8,
   "metadata": {},
   "outputs": [
    {
     "data": {
      "text/plain": [
       "3"
      ]
     },
     "execution_count": 8,
     "metadata": {},
     "output_type": "execute_result"
    }
   ],
   "source": [
    "def conver_WindDir(wind):\n",
    "    if wind in range(0,46):\n",
    "        return 1\n",
    "    elif wind in range(46,136):\n",
    "        return 2\n",
    "    elif wind in range(136,226):\n",
    "        return 3\n",
    "    elif wind in range(226,316):\n",
    "        return 4\n",
    "    else:\n",
    "        return 1\n",
    "    \n",
    "conver_WindDir(167)"
   ]
  },
  {
   "cell_type": "code",
   "execution_count": 9,
   "metadata": {},
   "outputs": [
    {
     "data": {
      "text/plain": [
       "31.666666666666664"
      ]
     },
     "execution_count": 9,
     "metadata": {},
     "output_type": "execute_result"
    }
   ],
   "source": [
    "def conver_F(f):\n",
    "    return (f - 32) / 1.8\n",
    "\n",
    "conver_F(89)"
   ]
  },
  {
   "cell_type": "code",
   "execution_count": 10,
   "metadata": {},
   "outputs": [
    {
     "name": "stderr",
     "output_type": "stream",
     "text": [
      "/home/vant/anaconda3/lib/python3.6/site-packages/ipykernel_launcher.py:1: SettingWithCopyWarning:\n",
      "\n",
      "\n",
      "A value is trying to be set on a copy of a slice from a DataFrame.\n",
      "Try using .loc[row_indexer,col_indexer] = value instead\n",
      "\n",
      "See the caveats in the documentation: http://pandas.pydata.org/pandas-docs/stable/indexing.html#indexing-view-versus-copy\n",
      "\n"
     ]
    }
   ],
   "source": [
    "dfw1['MeanC'] = dfw1['MeanT'].apply(conver_F)"
   ]
  },
  {
   "cell_type": "code",
   "execution_count": 11,
   "metadata": {},
   "outputs": [
    {
     "name": "stderr",
     "output_type": "stream",
     "text": [
      "/home/vant/anaconda3/lib/python3.6/site-packages/ipykernel_launcher.py:1: SettingWithCopyWarning:\n",
      "\n",
      "\n",
      "A value is trying to be set on a copy of a slice from a DataFrame.\n",
      "Try using .loc[row_indexer,col_indexer] = value instead\n",
      "\n",
      "See the caveats in the documentation: http://pandas.pydata.org/pandas-docs/stable/indexing.html#indexing-view-versus-copy\n",
      "\n"
     ]
    }
   ],
   "source": [
    "dfw1['WindCard'] = dfw1['WindDir'].apply(conver_WindDir)"
   ]
  },
  {
   "cell_type": "code",
   "execution_count": 12,
   "metadata": {},
   "outputs": [],
   "source": [
    "dfw1 = dfw1.drop('WindDir', axis=1)\n",
    "dfw1 = dfw1.drop('MeanT', axis=1)"
   ]
  },
  {
   "cell_type": "code",
   "execution_count": 21,
   "metadata": {},
   "outputs": [
    {
     "data": {
      "text/html": [
       "<div>\n",
       "<style scoped>\n",
       "    .dataframe tbody tr th:only-of-type {\n",
       "        vertical-align: middle;\n",
       "    }\n",
       "\n",
       "    .dataframe tbody tr th {\n",
       "        vertical-align: top;\n",
       "    }\n",
       "\n",
       "    .dataframe thead th {\n",
       "        text-align: right;\n",
       "    }\n",
       "</style>\n",
       "<table border=\"1\" class=\"dataframe\">\n",
       "  <thead>\n",
       "    <tr style=\"text-align: right;\">\n",
       "      <th></th>\n",
       "      <th>Date</th>\n",
       "      <th>MeanH</th>\n",
       "      <th>MeanSea</th>\n",
       "      <th>MeanWind</th>\n",
       "      <th>Preci</th>\n",
       "      <th>Events</th>\n",
       "      <th>MeanC</th>\n",
       "      <th>WindCard</th>\n",
       "    </tr>\n",
       "  </thead>\n",
       "  <tbody>\n",
       "    <tr>\n",
       "      <th>0</th>\n",
       "      <td>2012-03-10</td>\n",
       "      <td>50</td>\n",
       "      <td>30.45</td>\n",
       "      <td>6</td>\n",
       "      <td>0.00</td>\n",
       "      <td>NaN</td>\n",
       "      <td>4.444444</td>\n",
       "      <td>3</td>\n",
       "    </tr>\n",
       "    <tr>\n",
       "      <th>1</th>\n",
       "      <td>2012-03-11</td>\n",
       "      <td>53</td>\n",
       "      <td>30.27</td>\n",
       "      <td>7</td>\n",
       "      <td>T</td>\n",
       "      <td>Rain</td>\n",
       "      <td>9.444444</td>\n",
       "      <td>3</td>\n",
       "    </tr>\n",
       "    <tr>\n",
       "      <th>2</th>\n",
       "      <td>2012-03-12</td>\n",
       "      <td>76</td>\n",
       "      <td>29.99</td>\n",
       "      <td>14</td>\n",
       "      <td>0.03</td>\n",
       "      <td>Rain</td>\n",
       "      <td>16.666667</td>\n",
       "      <td>3</td>\n",
       "    </tr>\n",
       "    <tr>\n",
       "      <th>3</th>\n",
       "      <td>2012-03-13</td>\n",
       "      <td>66</td>\n",
       "      <td>30.06</td>\n",
       "      <td>5</td>\n",
       "      <td>0.00</td>\n",
       "      <td>NaN</td>\n",
       "      <td>17.222222</td>\n",
       "      <td>4</td>\n",
       "    </tr>\n",
       "    <tr>\n",
       "      <th>4</th>\n",
       "      <td>2012-03-14</td>\n",
       "      <td>68</td>\n",
       "      <td>30.10</td>\n",
       "      <td>6</td>\n",
       "      <td>0.00</td>\n",
       "      <td>NaN</td>\n",
       "      <td>16.666667</td>\n",
       "      <td>3</td>\n",
       "    </tr>\n",
       "  </tbody>\n",
       "</table>\n",
       "</div>"
      ],
      "text/plain": [
       "        Date  MeanH  MeanSea  MeanWind Preci Events      MeanC  WindCard\n",
       "0 2012-03-10     50    30.45         6  0.00    NaN   4.444444         3\n",
       "1 2012-03-11     53    30.27         7     T   Rain   9.444444         3\n",
       "2 2012-03-12     76    29.99        14  0.03   Rain  16.666667         3\n",
       "3 2012-03-13     66    30.06         5  0.00    NaN  17.222222         4\n",
       "4 2012-03-14     68    30.10         6  0.00    NaN  16.666667         3"
      ]
     },
     "execution_count": 21,
     "metadata": {},
     "output_type": "execute_result"
    }
   ],
   "source": [
    "dfw1.head()"
   ]
  },
  {
   "cell_type": "code",
   "execution_count": 23,
   "metadata": {},
   "outputs": [
    {
     "data": {
      "text/plain": [
       "dtype('float64')"
      ]
     },
     "execution_count": 23,
     "metadata": {},
     "output_type": "execute_result"
    }
   ],
   "source": [
    "dfw1['MeanC'].dtype"
   ]
  },
  {
   "cell_type": "code",
   "execution_count": 27,
   "metadata": {},
   "outputs": [],
   "source": [
    "dfw1['MeanC'] = dfw1['MeanC'].astype('int64')"
   ]
  },
  {
   "cell_type": "code",
   "execution_count": 28,
   "metadata": {},
   "outputs": [
    {
     "data": {
      "text/html": [
       "<div>\n",
       "<style scoped>\n",
       "    .dataframe tbody tr th:only-of-type {\n",
       "        vertical-align: middle;\n",
       "    }\n",
       "\n",
       "    .dataframe tbody tr th {\n",
       "        vertical-align: top;\n",
       "    }\n",
       "\n",
       "    .dataframe thead th {\n",
       "        text-align: right;\n",
       "    }\n",
       "</style>\n",
       "<table border=\"1\" class=\"dataframe\">\n",
       "  <thead>\n",
       "    <tr style=\"text-align: right;\">\n",
       "      <th></th>\n",
       "      <th>Date</th>\n",
       "      <th>MeanH</th>\n",
       "      <th>MeanSea</th>\n",
       "      <th>MeanWind</th>\n",
       "      <th>Preci</th>\n",
       "      <th>Events</th>\n",
       "      <th>MeanC</th>\n",
       "      <th>WindCard</th>\n",
       "    </tr>\n",
       "  </thead>\n",
       "  <tbody>\n",
       "    <tr>\n",
       "      <th>0</th>\n",
       "      <td>2012-03-10</td>\n",
       "      <td>50</td>\n",
       "      <td>30.45</td>\n",
       "      <td>6</td>\n",
       "      <td>0.00</td>\n",
       "      <td>NaN</td>\n",
       "      <td>4</td>\n",
       "      <td>3</td>\n",
       "    </tr>\n",
       "    <tr>\n",
       "      <th>1</th>\n",
       "      <td>2012-03-11</td>\n",
       "      <td>53</td>\n",
       "      <td>30.27</td>\n",
       "      <td>7</td>\n",
       "      <td>T</td>\n",
       "      <td>Rain</td>\n",
       "      <td>9</td>\n",
       "      <td>3</td>\n",
       "    </tr>\n",
       "    <tr>\n",
       "      <th>2</th>\n",
       "      <td>2012-03-12</td>\n",
       "      <td>76</td>\n",
       "      <td>29.99</td>\n",
       "      <td>14</td>\n",
       "      <td>0.03</td>\n",
       "      <td>Rain</td>\n",
       "      <td>16</td>\n",
       "      <td>3</td>\n",
       "    </tr>\n",
       "    <tr>\n",
       "      <th>3</th>\n",
       "      <td>2012-03-13</td>\n",
       "      <td>66</td>\n",
       "      <td>30.06</td>\n",
       "      <td>5</td>\n",
       "      <td>0.00</td>\n",
       "      <td>NaN</td>\n",
       "      <td>17</td>\n",
       "      <td>4</td>\n",
       "    </tr>\n",
       "    <tr>\n",
       "      <th>4</th>\n",
       "      <td>2012-03-14</td>\n",
       "      <td>68</td>\n",
       "      <td>30.10</td>\n",
       "      <td>6</td>\n",
       "      <td>0.00</td>\n",
       "      <td>NaN</td>\n",
       "      <td>16</td>\n",
       "      <td>3</td>\n",
       "    </tr>\n",
       "  </tbody>\n",
       "</table>\n",
       "</div>"
      ],
      "text/plain": [
       "        Date  MeanH  MeanSea  MeanWind Preci Events  MeanC  WindCard\n",
       "0 2012-03-10     50    30.45         6  0.00    NaN      4         3\n",
       "1 2012-03-11     53    30.27         7     T   Rain      9         3\n",
       "2 2012-03-12     76    29.99        14  0.03   Rain     16         3\n",
       "3 2012-03-13     66    30.06         5  0.00    NaN     17         4\n",
       "4 2012-03-14     68    30.10         6  0.00    NaN     16         3"
      ]
     },
     "execution_count": 28,
     "metadata": {},
     "output_type": "execute_result"
    }
   ],
   "source": [
    "dfw1.head()"
   ]
  },
  {
   "cell_type": "code",
   "execution_count": 29,
   "metadata": {},
   "outputs": [
    {
     "data": {
      "image/png": "[encoded data removed]",
      "text/plain": [
       "<Figure size 1080x504 with 6 Axes>"
      ]
     },
     "metadata": {},
     "output_type": "display_data"
    }
   ],
   "source": [
    "dfw1.hist(figsize=(15,7), bins=20);"
   ]
  },
  {
   "cell_type": "code",
   "execution_count": 30,
   "metadata": {},
   "outputs": [
    {
     "data": {
      "text/html": [
       "<div>\n",
       "<style scoped>\n",
       "    .dataframe tbody tr th:only-of-type {\n",
       "        vertical-align: middle;\n",
       "    }\n",
       "\n",
       "    .dataframe tbody tr th {\n",
       "        vertical-align: top;\n",
       "    }\n",
       "\n",
       "    .dataframe thead th {\n",
       "        text-align: right;\n",
       "    }\n",
       "</style>\n",
       "<table border=\"1\" class=\"dataframe\">\n",
       "  <thead>\n",
       "    <tr style=\"text-align: right;\">\n",
       "      <th></th>\n",
       "      <th>Date</th>\n",
       "      <th>MeanH</th>\n",
       "      <th>MeanSea</th>\n",
       "      <th>MeanWind</th>\n",
       "      <th>Preci</th>\n",
       "      <th>Events</th>\n",
       "      <th>MeanC</th>\n",
       "      <th>WindCard</th>\n",
       "    </tr>\n",
       "  </thead>\n",
       "  <tbody>\n",
       "    <tr>\n",
       "      <th>1</th>\n",
       "      <td>2012-03-11</td>\n",
       "      <td>53</td>\n",
       "      <td>30.27</td>\n",
       "      <td>7</td>\n",
       "      <td>T</td>\n",
       "      <td>Rain</td>\n",
       "      <td>9</td>\n",
       "      <td>3</td>\n",
       "    </tr>\n",
       "    <tr>\n",
       "      <th>2</th>\n",
       "      <td>2012-03-12</td>\n",
       "      <td>76</td>\n",
       "      <td>29.99</td>\n",
       "      <td>14</td>\n",
       "      <td>0.03</td>\n",
       "      <td>Rain</td>\n",
       "      <td>16</td>\n",
       "      <td>3</td>\n",
       "    </tr>\n",
       "    <tr>\n",
       "      <th>8</th>\n",
       "      <td>2012-03-18</td>\n",
       "      <td>69</td>\n",
       "      <td>30.07</td>\n",
       "      <td>8</td>\n",
       "      <td>T</td>\n",
       "      <td>Rain</td>\n",
       "      <td>21</td>\n",
       "      <td>3</td>\n",
       "    </tr>\n",
       "    <tr>\n",
       "      <th>12</th>\n",
       "      <td>2012-03-22</td>\n",
       "      <td>65</td>\n",
       "      <td>30.07</td>\n",
       "      <td>4</td>\n",
       "      <td>0.14</td>\n",
       "      <td>Rain</td>\n",
       "      <td>20</td>\n",
       "      <td>3</td>\n",
       "    </tr>\n",
       "    <tr>\n",
       "      <th>19</th>\n",
       "      <td>2012-03-29</td>\n",
       "      <td>55</td>\n",
       "      <td>30.00</td>\n",
       "      <td>6</td>\n",
       "      <td>T</td>\n",
       "      <td>Rain</td>\n",
       "      <td>14</td>\n",
       "      <td>2</td>\n",
       "    </tr>\n",
       "  </tbody>\n",
       "</table>\n",
       "</div>"
      ],
      "text/plain": [
       "         Date  MeanH  MeanSea  MeanWind Preci Events  MeanC  WindCard\n",
       "1  2012-03-11     53    30.27         7     T   Rain      9         3\n",
       "2  2012-03-12     76    29.99        14  0.03   Rain     16         3\n",
       "8  2012-03-18     69    30.07         8     T   Rain     21         3\n",
       "12 2012-03-22     65    30.07         4  0.14   Rain     20         3\n",
       "19 2012-03-29     55    30.00         6     T   Rain     14         2"
      ]
     },
     "execution_count": 30,
     "metadata": {},
     "output_type": "execute_result"
    }
   ],
   "source": [
    "dfw2 = dfw1[dfw1['Events'].isin(['Rain'])]\n",
    "dfw2.head()\n"
   ]
  },
  {
   "cell_type": "code",
   "execution_count": 57,
   "metadata": {},
   "outputs": [
    {
     "name": "stderr",
     "output_type": "stream",
     "text": [
      "/home/vant/anaconda3/lib/python3.6/site-packages/ipykernel_launcher.py:1: SettingWithCopyWarning:\n",
      "\n",
      "\n",
      "A value is trying to be set on a copy of a slice from a DataFrame.\n",
      "Try using .loc[row_indexer,col_indexer] = value instead\n",
      "\n",
      "See the caveats in the documentation: http://pandas.pydata.org/pandas-docs/stable/indexing.html#indexing-view-versus-copy\n",
      "\n"
     ]
    }
   ],
   "source": [
    "dfw2['Preci']= dfw2['Preci'].str.replace('T','0')"
   ]
  },
  {
   "cell_type": "code",
   "execution_count": 58,
   "metadata": {},
   "outputs": [
    {
     "data": {
      "text/html": [
       "<div>\n",
       "<style scoped>\n",
       "    .dataframe tbody tr th:only-of-type {\n",
       "        vertical-align: middle;\n",
       "    }\n",
       "\n",
       "    .dataframe tbody tr th {\n",
       "        vertical-align: top;\n",
       "    }\n",
       "\n",
       "    .dataframe thead th {\n",
       "        text-align: right;\n",
       "    }\n",
       "</style>\n",
       "<table border=\"1\" class=\"dataframe\">\n",
       "  <thead>\n",
       "    <tr style=\"text-align: right;\">\n",
       "      <th></th>\n",
       "      <th>Date</th>\n",
       "      <th>MeanH</th>\n",
       "      <th>MeanSea</th>\n",
       "      <th>MeanWind</th>\n",
       "      <th>Preci</th>\n",
       "      <th>Events</th>\n",
       "      <th>MeanC</th>\n",
       "      <th>WindCard</th>\n",
       "    </tr>\n",
       "  </thead>\n",
       "  <tbody>\n",
       "    <tr>\n",
       "      <th>1</th>\n",
       "      <td>2012-03-11</td>\n",
       "      <td>53</td>\n",
       "      <td>30.27</td>\n",
       "      <td>7</td>\n",
       "      <td>0</td>\n",
       "      <td>Rain</td>\n",
       "      <td>9</td>\n",
       "      <td>3</td>\n",
       "    </tr>\n",
       "    <tr>\n",
       "      <th>2</th>\n",
       "      <td>2012-03-12</td>\n",
       "      <td>76</td>\n",
       "      <td>29.99</td>\n",
       "      <td>14</td>\n",
       "      <td>0.03</td>\n",
       "      <td>Rain</td>\n",
       "      <td>16</td>\n",
       "      <td>3</td>\n",
       "    </tr>\n",
       "    <tr>\n",
       "      <th>8</th>\n",
       "      <td>2012-03-18</td>\n",
       "      <td>69</td>\n",
       "      <td>30.07</td>\n",
       "      <td>8</td>\n",
       "      <td>0</td>\n",
       "      <td>Rain</td>\n",
       "      <td>21</td>\n",
       "      <td>3</td>\n",
       "    </tr>\n",
       "    <tr>\n",
       "      <th>12</th>\n",
       "      <td>2012-03-22</td>\n",
       "      <td>65</td>\n",
       "      <td>30.07</td>\n",
       "      <td>4</td>\n",
       "      <td>0.14</td>\n",
       "      <td>Rain</td>\n",
       "      <td>20</td>\n",
       "      <td>3</td>\n",
       "    </tr>\n",
       "    <tr>\n",
       "      <th>19</th>\n",
       "      <td>2012-03-29</td>\n",
       "      <td>55</td>\n",
       "      <td>30.00</td>\n",
       "      <td>6</td>\n",
       "      <td>0</td>\n",
       "      <td>Rain</td>\n",
       "      <td>14</td>\n",
       "      <td>2</td>\n",
       "    </tr>\n",
       "  </tbody>\n",
       "</table>\n",
       "</div>"
      ],
      "text/plain": [
       "         Date  MeanH  MeanSea  MeanWind Preci Events  MeanC  WindCard\n",
       "1  2012-03-11     53    30.27         7     0   Rain      9         3\n",
       "2  2012-03-12     76    29.99        14  0.03   Rain     16         3\n",
       "8  2012-03-18     69    30.07         8     0   Rain     21         3\n",
       "12 2012-03-22     65    30.07         4  0.14   Rain     20         3\n",
       "19 2012-03-29     55    30.00         6     0   Rain     14         2"
      ]
     },
     "execution_count": 58,
     "metadata": {},
     "output_type": "execute_result"
    }
   ],
   "source": [
    "dfw2.head()"
   ]
  },
  {
   "cell_type": "code",
   "execution_count": 61,
   "metadata": {},
   "outputs": [
    {
     "name": "stderr",
     "output_type": "stream",
     "text": [
      "/home/vant/anaconda3/lib/python3.6/site-packages/ipykernel_launcher.py:1: SettingWithCopyWarning:\n",
      "\n",
      "\n",
      "A value is trying to be set on a copy of a slice from a DataFrame.\n",
      "Try using .loc[row_indexer,col_indexer] = value instead\n",
      "\n",
      "See the caveats in the documentation: http://pandas.pydata.org/pandas-docs/stable/indexing.html#indexing-view-versus-copy\n",
      "\n"
     ]
    }
   ],
   "source": [
    "dfw2['Preci'] = dfw2['Preci'].astype('float64')"
   ]
  },
  {
   "cell_type": "code",
   "execution_count": 62,
   "metadata": {},
   "outputs": [
    {
     "data": {
      "text/html": [
       "<div>\n",
       "<style scoped>\n",
       "    .dataframe tbody tr th:only-of-type {\n",
       "        vertical-align: middle;\n",
       "    }\n",
       "\n",
       "    .dataframe tbody tr th {\n",
       "        vertical-align: top;\n",
       "    }\n",
       "\n",
       "    .dataframe thead th {\n",
       "        text-align: right;\n",
       "    }\n",
       "</style>\n",
       "<table border=\"1\" class=\"dataframe\">\n",
       "  <thead>\n",
       "    <tr style=\"text-align: right;\">\n",
       "      <th></th>\n",
       "      <th>Date</th>\n",
       "      <th>MeanH</th>\n",
       "      <th>MeanSea</th>\n",
       "      <th>MeanWind</th>\n",
       "      <th>Preci</th>\n",
       "      <th>Events</th>\n",
       "      <th>MeanC</th>\n",
       "      <th>WindCard</th>\n",
       "    </tr>\n",
       "  </thead>\n",
       "  <tbody>\n",
       "    <tr>\n",
       "      <th>1</th>\n",
       "      <td>2012-03-11</td>\n",
       "      <td>53</td>\n",
       "      <td>30.27</td>\n",
       "      <td>7</td>\n",
       "      <td>0.00</td>\n",
       "      <td>Rain</td>\n",
       "      <td>9</td>\n",
       "      <td>3</td>\n",
       "    </tr>\n",
       "    <tr>\n",
       "      <th>2</th>\n",
       "      <td>2012-03-12</td>\n",
       "      <td>76</td>\n",
       "      <td>29.99</td>\n",
       "      <td>14</td>\n",
       "      <td>0.03</td>\n",
       "      <td>Rain</td>\n",
       "      <td>16</td>\n",
       "      <td>3</td>\n",
       "    </tr>\n",
       "    <tr>\n",
       "      <th>8</th>\n",
       "      <td>2012-03-18</td>\n",
       "      <td>69</td>\n",
       "      <td>30.07</td>\n",
       "      <td>8</td>\n",
       "      <td>0.00</td>\n",
       "      <td>Rain</td>\n",
       "      <td>21</td>\n",
       "      <td>3</td>\n",
       "    </tr>\n",
       "    <tr>\n",
       "      <th>12</th>\n",
       "      <td>2012-03-22</td>\n",
       "      <td>65</td>\n",
       "      <td>30.07</td>\n",
       "      <td>4</td>\n",
       "      <td>0.14</td>\n",
       "      <td>Rain</td>\n",
       "      <td>20</td>\n",
       "      <td>3</td>\n",
       "    </tr>\n",
       "    <tr>\n",
       "      <th>19</th>\n",
       "      <td>2012-03-29</td>\n",
       "      <td>55</td>\n",
       "      <td>30.00</td>\n",
       "      <td>6</td>\n",
       "      <td>0.00</td>\n",
       "      <td>Rain</td>\n",
       "      <td>14</td>\n",
       "      <td>2</td>\n",
       "    </tr>\n",
       "  </tbody>\n",
       "</table>\n",
       "</div>"
      ],
      "text/plain": [
       "         Date  MeanH  MeanSea  MeanWind  Preci Events  MeanC  WindCard\n",
       "1  2012-03-11     53    30.27         7   0.00   Rain      9         3\n",
       "2  2012-03-12     76    29.99        14   0.03   Rain     16         3\n",
       "8  2012-03-18     69    30.07         8   0.00   Rain     21         3\n",
       "12 2012-03-22     65    30.07         4   0.14   Rain     20         3\n",
       "19 2012-03-29     55    30.00         6   0.00   Rain     14         2"
      ]
     },
     "execution_count": 62,
     "metadata": {},
     "output_type": "execute_result"
    }
   ],
   "source": [
    "dfw2.head()"
   ]
  },
  {
   "cell_type": "code",
   "execution_count": 63,
   "metadata": {},
   "outputs": [
    {
     "data": {
      "image/png": "[encoded data removed]",
      "text/plain": [
       "<Figure size 1080x504 with 6 Axes>"
      ]
     },
     "metadata": {},
     "output_type": "display_data"
    }
   ],
   "source": [
    "dfw2.hist(figsize=(15,7), bins=20);"
   ]
  },
  {
   "cell_type": "code",
   "execution_count": 64,
   "metadata": {},
   "outputs": [
    {
     "data": {
      "image/png": "[encoded data removed]",
      "text/plain": [
       "<Figure size 432x432 with 3 Axes>"
      ]
     },
     "metadata": {},
     "output_type": "display_data"
    }
   ],
   "source": [
    "import seaborn as sns\n",
    "\n",
    "sns.jointplot(data=dfw2, x='MeanC', y='WindCard', kind='kde');"
   ]
  },
  {
   "cell_type": "code",
   "execution_count": 65,
   "metadata": {},
   "outputs": [
    {
     "data": {
      "image/png": "[encoded data removed]",
      "text/plain": [
       "<Figure size 432x432 with 3 Axes>"
      ]
     },
     "metadata": {},
     "output_type": "display_data"
    }
   ],
   "source": [
    "sns.jointplot(data=dfw2, x='MeanH', y='WindCard', kind='kde');"
   ]
  },
  {
   "cell_type": "code",
   "execution_count": 66,
   "metadata": {},
   "outputs": [
    {
     "data": {
      "image/png": "[encoded data removed]",
      "text/plain": [
       "<Figure size 432x432 with 3 Axes>"
      ]
     },
     "metadata": {},
     "output_type": "display_data"
    }
   ],
   "source": [
    "sns.jointplot(data=dfw2, x='MeanWind', y='WindCard', kind='kde');"
   ]
  },
  {
   "cell_type": "code",
   "execution_count": 91,
   "metadata": {},
   "outputs": [
    {
     "data": {
      "text/html": [
       "<div>\n",
       "<style scoped>\n",
       "    .dataframe tbody tr th:only-of-type {\n",
       "        vertical-align: middle;\n",
       "    }\n",
       "\n",
       "    .dataframe tbody tr th {\n",
       "        vertical-align: top;\n",
       "    }\n",
       "\n",
       "    .dataframe thead th {\n",
       "        text-align: right;\n",
       "    }\n",
       "</style>\n",
       "<table border=\"1\" class=\"dataframe\">\n",
       "  <thead>\n",
       "    <tr style=\"text-align: right;\">\n",
       "      <th></th>\n",
       "      <th>Date</th>\n",
       "      <th>MeanH</th>\n",
       "      <th>MeanSea</th>\n",
       "      <th>MeanWind</th>\n",
       "      <th>Preci</th>\n",
       "      <th>Events</th>\n",
       "      <th>MeanC</th>\n",
       "      <th>WindCard</th>\n",
       "    </tr>\n",
       "  </thead>\n",
       "  <tbody>\n",
       "    <tr>\n",
       "      <th>1</th>\n",
       "      <td>2012-03-11</td>\n",
       "      <td>53</td>\n",
       "      <td>30.27</td>\n",
       "      <td>7</td>\n",
       "      <td>0.00</td>\n",
       "      <td>Rain</td>\n",
       "      <td>9</td>\n",
       "      <td>3</td>\n",
       "    </tr>\n",
       "    <tr>\n",
       "      <th>2</th>\n",
       "      <td>2012-03-12</td>\n",
       "      <td>76</td>\n",
       "      <td>29.99</td>\n",
       "      <td>14</td>\n",
       "      <td>0.03</td>\n",
       "      <td>Rain</td>\n",
       "      <td>16</td>\n",
       "      <td>3</td>\n",
       "    </tr>\n",
       "    <tr>\n",
       "      <th>8</th>\n",
       "      <td>2012-03-18</td>\n",
       "      <td>69</td>\n",
       "      <td>30.07</td>\n",
       "      <td>8</td>\n",
       "      <td>0.00</td>\n",
       "      <td>Rain</td>\n",
       "      <td>21</td>\n",
       "      <td>3</td>\n",
       "    </tr>\n",
       "    <tr>\n",
       "      <th>12</th>\n",
       "      <td>2012-03-22</td>\n",
       "      <td>65</td>\n",
       "      <td>30.07</td>\n",
       "      <td>4</td>\n",
       "      <td>0.14</td>\n",
       "      <td>Rain</td>\n",
       "      <td>20</td>\n",
       "      <td>3</td>\n",
       "    </tr>\n",
       "    <tr>\n",
       "      <th>37</th>\n",
       "      <td>2012-04-16</td>\n",
       "      <td>75</td>\n",
       "      <td>29.94</td>\n",
       "      <td>12</td>\n",
       "      <td>0.38</td>\n",
       "      <td>Rain</td>\n",
       "      <td>16</td>\n",
       "      <td>4</td>\n",
       "    </tr>\n",
       "  </tbody>\n",
       "</table>\n",
       "</div>"
      ],
      "text/plain": [
       "         Date  MeanH  MeanSea  MeanWind  Preci Events  MeanC  WindCard\n",
       "1  2012-03-11     53    30.27         7   0.00   Rain      9         3\n",
       "2  2012-03-12     76    29.99        14   0.03   Rain     16         3\n",
       "8  2012-03-18     69    30.07         8   0.00   Rain     21         3\n",
       "12 2012-03-22     65    30.07         4   0.14   Rain     20         3\n",
       "37 2012-04-16     75    29.94        12   0.38   Rain     16         4"
      ]
     },
     "execution_count": 91,
     "metadata": {},
     "output_type": "execute_result"
    }
   ],
   "source": [
    "dfw3 = dfw2[dfw2['WindCard'] >= 3] #dias de lluvia con vientos de sur y este (mayoria de dias del año)\n",
    "dfw3.head()"
   ]
  },
  {
   "cell_type": "code",
   "execution_count": 90,
   "metadata": {},
   "outputs": [
    {
     "data": {
      "text/html": [
       "<script type=\"text/javascript\">window.PlotlyConfig = {MathJaxConfig: 'local'};</script><script type=\"text/javascript\">if (window.MathJax) {MathJax.Hub.Config({SVG: {font: \"STIX-Web\"}});}</script><script>requirejs.config({paths: { 'plotly': ['https://cdn.plot.ly/plotly-latest.min']},});if(!window._Plotly) {require(['plotly'],function(plotly) {window._Plotly=plotly;});}</script>"
      ],
      "text/vnd.plotly.v1+html": [
       "<script type=\"text/javascript\">window.PlotlyConfig = {MathJaxConfig: 'local'};</script><script type=\"text/javascript\">if (window.MathJax) {MathJax.Hub.Config({SVG: {font: \"STIX-Web\"}});}</script><script>requirejs.config({paths: { 'plotly': ['https://cdn.plot.ly/plotly-latest.min']},});if(!window._Plotly) {require(['plotly'],function(plotly) {window._Plotly=plotly;});}</script>"
      ]
     },
     "metadata": {},
     "output_type": "display_data"
    },
    {
     "data": {
      "application/vnd.plotly.v1+json": {
       "config": {
        "linkText": "Export to plot.ly",
        "plotlyServerURL": "https://plot.ly",
        "showLink": false
       },
       "data": [
        {
         "marker": {
          "color": "red",
          "size": 12
         },
         "mode": "markers",
         "name": "MeanC",
         "type": "scatter",
         "uid": "eac158d8-8220-453c-9bc2-2e6937e4a011",
         "x": [
          "2012-03-11",
          "2012-03-12",
          "2012-03-18",
          "2012-03-22",
          "2012-04-16",
          "2012-04-19",
          "2012-04-20",
          "2012-04-24",
          "2012-05-08",
          "2012-05-09",
          "2012-06-01",
          "2012-06-02",
          "2012-07-14",
          "2012-07-26",
          "2012-08-05",
          "2012-08-13",
          "2012-08-17",
          "2012-08-21",
          "2012-08-27",
          "2012-08-31",
          "2012-09-01",
          "2012-09-08",
          "2012-09-17",
          "2012-09-18",
          "2012-09-20",
          "2012-10-10",
          "2012-10-14",
          "2012-10-15",
          "2012-10-18",
          "2012-10-19",
          "2012-10-20",
          "2012-10-23",
          "2012-10-30",
          "2012-11-06",
          "2012-11-11",
          "2012-11-23",
          "2012-12-02",
          "2012-12-03",
          "2012-12-04",
          "2012-12-15",
          "2012-12-18",
          "2013-01-09",
          "2013-01-12",
          "2013-01-27",
          "2013-01-28",
          "2013-02-07",
          "2013-02-10",
          "2013-02-18"
         ],
         "y": [
          9,
          16,
          21,
          20,
          16,
          15,
          14,
          10,
          18,
          14,
          13,
          15,
          25,
          30,
          25,
          21,
          20,
          18,
          25,
          26,
          26,
          17,
          17,
          12,
          14,
          6,
          17,
          11,
          12,
          10,
          8,
          21,
          5,
          3,
          15,
          5,
          15,
          18,
          10,
          8,
          5,
          5,
          16,
          0,
          9,
          7,
          6,
          6
         ]
        },
        {
         "marker": {
          "color": "blue",
          "size": 12
         },
         "mode": "markers",
         "name": "MeanH",
         "type": "scatter",
         "uid": "d3750e4c-5376-44ab-86bf-5f12586cfe0e",
         "x": [
          "2012-03-11",
          "2012-03-12",
          "2012-03-18",
          "2012-03-22",
          "2012-04-16",
          "2012-04-19",
          "2012-04-20",
          "2012-04-24",
          "2012-05-08",
          "2012-05-09",
          "2012-06-01",
          "2012-06-02",
          "2012-07-14",
          "2012-07-26",
          "2012-08-05",
          "2012-08-13",
          "2012-08-17",
          "2012-08-21",
          "2012-08-27",
          "2012-08-31",
          "2012-09-01",
          "2012-09-08",
          "2012-09-17",
          "2012-09-18",
          "2012-09-20",
          "2012-10-10",
          "2012-10-14",
          "2012-10-15",
          "2012-10-18",
          "2012-10-19",
          "2012-10-20",
          "2012-10-23",
          "2012-10-30",
          "2012-11-06",
          "2012-11-11",
          "2012-11-23",
          "2012-12-02",
          "2012-12-03",
          "2012-12-04",
          "2012-12-15",
          "2012-12-18",
          "2013-01-09",
          "2013-01-12",
          "2013-01-27",
          "2013-01-28",
          "2013-02-07",
          "2013-02-10",
          "2013-02-18"
         ],
         "y": [
          53,
          76,
          69,
          65,
          75,
          64,
          70,
          55,
          68,
          68,
          84,
          69,
          79,
          55,
          60,
          71,
          66,
          67,
          74,
          79,
          81,
          72,
          87,
          65,
          75,
          62,
          70,
          64,
          61,
          70,
          84,
          55,
          64,
          69,
          54,
          72,
          76,
          79,
          75,
          71,
          76,
          73,
          80,
          72,
          84,
          66,
          71,
          61
         ]
        }
       ],
       "layout": {
        "title": {
         "text": "Raining at San Francisco"
        },
        "xaxis": {
         "title": {
          "text": "Days"
         }
        },
        "yaxis": {
         "title": {
          "text": "MeanVariable"
         }
        }
       }
      },
      "text/html": [
       "<div id=\"ffc2cc7a-98fb-4b4f-a5f8-f534d742a4df\" style=\"height: 525px; width: 100%;\" class=\"plotly-graph-div\"></div><script type=\"text/javascript\">require([\"plotly\"], function(Plotly) { window.PLOTLYENV=window.PLOTLYENV || {};window.PLOTLYENV.BASE_URL=\"https://plot.ly\";Plotly.newPlot(\"ffc2cc7a-98fb-4b4f-a5f8-f534d742a4df\", [{\"marker\": {\"color\": \"red\", \"size\": 12}, \"mode\": \"markers\", \"name\": \"MeanC\", \"x\": [\"2012-03-11\", \"2012-03-12\", \"2012-03-18\", \"2012-03-22\", \"2012-04-16\", \"2012-04-19\", \"2012-04-20\", \"2012-04-24\", \"2012-05-08\", \"2012-05-09\", \"2012-06-01\", \"2012-06-02\", \"2012-07-14\", \"2012-07-26\", \"2012-08-05\", \"2012-08-13\", \"2012-08-17\", \"2012-08-21\", \"2012-08-27\", \"2012-08-31\", \"2012-09-01\", \"2012-09-08\", \"2012-09-17\", \"2012-09-18\", \"2012-09-20\", \"2012-10-10\", \"2012-10-14\", \"2012-10-15\", \"2012-10-18\", \"2012-10-19\", \"2012-10-20\", \"2012-10-23\", \"2012-10-30\", \"2012-11-06\", \"2012-11-11\", \"2012-11-23\", \"2012-12-02\", \"2012-12-03\", \"2012-12-04\", \"2012-12-15\", \"2012-12-18\", \"2013-01-09\", \"2013-01-12\", \"2013-01-27\", \"2013-01-28\", \"2013-02-07\", \"2013-02-10\", \"2013-02-18\"], \"y\": [9, 16, 21, 20, 16, 15, 14, 10, 18, 14, 13, 15, 25, 30, 25, 21, 20, 18, 25, 26, 26, 17, 17, 12, 14, 6, 17, 11, 12, 10, 8, 21, 5, 3, 15, 5, 15, 18, 10, 8, 5, 5, 16, 0, 9, 7, 6, 6], \"type\": \"scatter\", \"uid\": \"eac158d8-8220-453c-9bc2-2e6937e4a011\"}, {\"marker\": {\"color\": \"blue\", \"size\": 12}, \"mode\": \"markers\", \"name\": \"MeanH\", \"x\": [\"2012-03-11\", \"2012-03-12\", \"2012-03-18\", \"2012-03-22\", \"2012-04-16\", \"2012-04-19\", \"2012-04-20\", \"2012-04-24\", \"2012-05-08\", \"2012-05-09\", \"2012-06-01\", \"2012-06-02\", \"2012-07-14\", \"2012-07-26\", \"2012-08-05\", \"2012-08-13\", \"2012-08-17\", \"2012-08-21\", \"2012-08-27\", \"2012-08-31\", \"2012-09-01\", \"2012-09-08\", \"2012-09-17\", \"2012-09-18\", \"2012-09-20\", \"2012-10-10\", \"2012-10-14\", \"2012-10-15\", \"2012-10-18\", \"2012-10-19\", \"2012-10-20\", \"2012-10-23\", \"2012-10-30\", \"2012-11-06\", \"2012-11-11\", \"2012-11-23\", \"2012-12-02\", \"2012-12-03\", \"2012-12-04\", \"2012-12-15\", \"2012-12-18\", \"2013-01-09\", \"2013-01-12\", \"2013-01-27\", \"2013-01-28\", \"2013-02-07\", \"2013-02-10\", \"2013-02-18\"], \"y\": [53, 76, 69, 65, 75, 64, 70, 55, 68, 68, 84, 69, 79, 55, 60, 71, 66, 67, 74, 79, 81, 72, 87, 65, 75, 62, 70, 64, 61, 70, 84, 55, 64, 69, 54, 72, 76, 79, 75, 71, 76, 73, 80, 72, 84, 66, 71, 61], \"type\": \"scatter\", \"uid\": \"d3750e4c-5376-44ab-86bf-5f12586cfe0e\"}], {\"title\": {\"text\": \"Raining at San Francisco\"}, \"xaxis\": {\"title\": {\"text\": \"Days\"}}, \"yaxis\": {\"title\": {\"text\": \"MeanVariable\"}}}, {\"showLink\": false, \"linkText\": \"Export to plot.ly\", \"plotlyServerURL\": \"https://plot.ly\"})});</script><script type=\"text/javascript\">window.addEventListener(\"resize\", function(){window._Plotly.Plots.resize(document.getElementById(\"ffc2cc7a-98fb-4b4f-a5f8-f534d742a4df\"));});</script>"
      ],
      "text/vnd.plotly.v1+html": [
       "<div id=\"ffc2cc7a-98fb-4b4f-a5f8-f534d742a4df\" style=\"height: 525px; width: 100%;\" class=\"plotly-graph-div\"></div><script type=\"text/javascript\">require([\"plotly\"], function(Plotly) { window.PLOTLYENV=window.PLOTLYENV || {};window.PLOTLYENV.BASE_URL=\"https://plot.ly\";Plotly.newPlot(\"ffc2cc7a-98fb-4b4f-a5f8-f534d742a4df\", [{\"marker\": {\"color\": \"red\", \"size\": 12}, \"mode\": \"markers\", \"name\": \"MeanC\", \"x\": [\"2012-03-11\", \"2012-03-12\", \"2012-03-18\", \"2012-03-22\", \"2012-04-16\", \"2012-04-19\", \"2012-04-20\", \"2012-04-24\", \"2012-05-08\", \"2012-05-09\", \"2012-06-01\", \"2012-06-02\", \"2012-07-14\", \"2012-07-26\", \"2012-08-05\", \"2012-08-13\", \"2012-08-17\", \"2012-08-21\", \"2012-08-27\", \"2012-08-31\", \"2012-09-01\", \"2012-09-08\", \"2012-09-17\", \"2012-09-18\", \"2012-09-20\", \"2012-10-10\", \"2012-10-14\", \"2012-10-15\", \"2012-10-18\", \"2012-10-19\", \"2012-10-20\", \"2012-10-23\", \"2012-10-30\", \"2012-11-06\", \"2012-11-11\", \"2012-11-23\", \"2012-12-02\", \"2012-12-03\", \"2012-12-04\", \"2012-12-15\", \"2012-12-18\", \"2013-01-09\", \"2013-01-12\", \"2013-01-27\", \"2013-01-28\", \"2013-02-07\", \"2013-02-10\", \"2013-02-18\"], \"y\": [9, 16, 21, 20, 16, 15, 14, 10, 18, 14, 13, 15, 25, 30, 25, 21, 20, 18, 25, 26, 26, 17, 17, 12, 14, 6, 17, 11, 12, 10, 8, 21, 5, 3, 15, 5, 15, 18, 10, 8, 5, 5, 16, 0, 9, 7, 6, 6], \"type\": \"scatter\", \"uid\": \"eac158d8-8220-453c-9bc2-2e6937e4a011\"}, {\"marker\": {\"color\": \"blue\", \"size\": 12}, \"mode\": \"markers\", \"name\": \"MeanH\", \"x\": [\"2012-03-11\", \"2012-03-12\", \"2012-03-18\", \"2012-03-22\", \"2012-04-16\", \"2012-04-19\", \"2012-04-20\", \"2012-04-24\", \"2012-05-08\", \"2012-05-09\", \"2012-06-01\", \"2012-06-02\", \"2012-07-14\", \"2012-07-26\", \"2012-08-05\", \"2012-08-13\", \"2012-08-17\", \"2012-08-21\", \"2012-08-27\", \"2012-08-31\", \"2012-09-01\", \"2012-09-08\", \"2012-09-17\", \"2012-09-18\", \"2012-09-20\", \"2012-10-10\", \"2012-10-14\", \"2012-10-15\", \"2012-10-18\", \"2012-10-19\", \"2012-10-20\", \"2012-10-23\", \"2012-10-30\", \"2012-11-06\", \"2012-11-11\", \"2012-11-23\", \"2012-12-02\", \"2012-12-03\", \"2012-12-04\", \"2012-12-15\", \"2012-12-18\", \"2013-01-09\", \"2013-01-12\", \"2013-01-27\", \"2013-01-28\", \"2013-02-07\", \"2013-02-10\", \"2013-02-18\"], \"y\": [53, 76, 69, 65, 75, 64, 70, 55, 68, 68, 84, 69, 79, 55, 60, 71, 66, 67, 74, 79, 81, 72, 87, 65, 75, 62, 70, 64, 61, 70, 84, 55, 64, 69, 54, 72, 76, 79, 75, 71, 76, 73, 80, 72, 84, 66, 71, 61], \"type\": \"scatter\", \"uid\": \"d3750e4c-5376-44ab-86bf-5f12586cfe0e\"}], {\"title\": {\"text\": \"Raining at San Francisco\"}, \"xaxis\": {\"title\": {\"text\": \"Days\"}}, \"yaxis\": {\"title\": {\"text\": \"MeanVariable\"}}}, {\"showLink\": false, \"linkText\": \"Export to plot.ly\", \"plotlyServerURL\": \"https://plot.ly\"})});</script><script type=\"text/javascript\">window.addEventListener(\"resize\", function(){window._Plotly.Plots.resize(document.getElementById(\"ffc2cc7a-98fb-4b4f-a5f8-f534d742a4df\"));});</script>"
      ]
     },
     "metadata": {},
     "output_type": "display_data"
    }
   ],
   "source": [
    "import plotly\n",
    "import plotly.plotly as py\n",
    "import plotly.graph_objs as go\n",
    "import plotly.offline as offline\n",
    "\n",
    "plotly.offline.init_notebook_mode(connected=True)\n",
    "\n",
    "\n",
    "trace1 = {\"x\": dfw3['Date'], \n",
    "          \"y\": dfw3['MeanC'], \n",
    "          \"marker\": {\"color\": \"red\", \"size\": 12}, \n",
    "          \"mode\": \"markers\", \n",
    "          \"name\": \"MeanC\", \n",
    "          \"type\": \"scatter\"\n",
    "}\n",
    "\n",
    "trace2 = {\"x\": dfw3['Date'], \n",
    "          \"y\": dfw3['MeanH'], \n",
    "          \"marker\": {\"color\": \"blue\", \"size\": 12}, \n",
    "          \"mode\": \"markers\", \n",
    "          \"name\": \"MeanH\", \n",
    "          \"type\": \"scatter\", \n",
    "}\n",
    "\n",
    "data = [trace1, trace2]\n",
    "layout = {\"title\": \"Raining at San Francisco\", \n",
    "          \"xaxis\": {\"title\": \"Days\", }, \n",
    "          \"yaxis\": {\"title\": \"MeanVariable\"}}\n",
    "\n",
    "fig = go.Figure(data=data, layout=layout)\n",
    "offline.iplot(fig, filename='basicplotly_try1')"
   ]
  },
  {
   "cell_type": "code",
   "execution_count": null,
   "metadata": {},
   "outputs": [],
   "source": [
    "#Siguiente objetivo aplicar modelos de regresion lineal para estimar temperatura media y humedad media en dias \n",
    "#de lluvia con viento sur y este segun epoca del año"
   ]
  }
 ],
 "metadata": {
  "kernelspec": {
   "display_name": "Python 3",
   "language": "python",
   "name": "python3"
  },
  "language_info": {
   "codemirror_mode": {
    "name": "ipython",
    "version": 3
   },
   "file_extension": ".py",
   "mimetype": "text/x-python",
   "name": "python",
   "nbconvert_exporter": "python",
   "pygments_lexer": "ipython3",
   "version": "3.6.5"
  }
 },
 "nbformat": 4,
 "nbformat_minor": 2
}
