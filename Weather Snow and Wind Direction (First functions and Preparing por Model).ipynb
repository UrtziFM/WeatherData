{
 "cells": [
  {
   "cell_type": "code",
   "execution_count": 66,
   "metadata": {},
   "outputs": [],
   "source": [
    "weather = '/home/vant/Escritorio/MasterDataScience/Clases/Python/weather_year.csv'"
   ]
  },
  {
   "cell_type": "code",
   "execution_count": 67,
   "metadata": {},
   "outputs": [
    {
     "name": "stdout",
     "output_type": "stream",
     "text": [
      "367\n",
      "CPU times: user 8.11 ms, sys: 250 µs, total: 8.36 ms\n",
      "Wall time: 112 ms\n"
     ]
    }
   ],
   "source": [
    "%%time\n",
    "!cat {weather} |wc -l"
   ]
  },
  {
   "cell_type": "code",
   "execution_count": 68,
   "metadata": {},
   "outputs": [],
   "source": [
    "import pandas as pd\n",
    "import matplotlib.pyplot as plt\n",
    "%matplotlib inline"
   ]
  },
  {
   "cell_type": "code",
   "execution_count": 69,
   "metadata": {},
   "outputs": [
    {
     "data": {
      "text/html": [
       "<div>\n",
       "<style scoped>\n",
       "    .dataframe tbody tr th:only-of-type {\n",
       "        vertical-align: middle;\n",
       "    }\n",
       "\n",
       "    .dataframe tbody tr th {\n",
       "        vertical-align: top;\n",
       "    }\n",
       "\n",
       "    .dataframe thead th {\n",
       "        text-align: right;\n",
       "    }\n",
       "</style>\n",
       "<table border=\"1\" class=\"dataframe\">\n",
       "  <thead>\n",
       "    <tr style=\"text-align: right;\">\n",
       "      <th></th>\n",
       "      <th>EDT</th>\n",
       "      <th>Max TemperatureF</th>\n",
       "      <th>Mean TemperatureF</th>\n",
       "      <th>Min TemperatureF</th>\n",
       "      <th>Max Dew PointF</th>\n",
       "      <th>MeanDew PointF</th>\n",
       "      <th>Min DewpointF</th>\n",
       "      <th>Max Humidity</th>\n",
       "      <th>Mean Humidity</th>\n",
       "      <th>Min Humidity</th>\n",
       "      <th>Max Sea Level PressureIn</th>\n",
       "      <th>Mean Sea Level PressureIn</th>\n",
       "      <th>Min Sea Level PressureIn</th>\n",
       "      <th>Max VisibilityMiles</th>\n",
       "      <th>Mean VisibilityMiles</th>\n",
       "      <th>Min VisibilityMiles</th>\n",
       "      <th>Max Wind SpeedMPH</th>\n",
       "      <th>Mean Wind SpeedMPH</th>\n",
       "      <th>Max Gust SpeedMPH</th>\n",
       "      <th>PrecipitationIn</th>\n",
       "      <th>CloudCover</th>\n",
       "      <th>Events</th>\n",
       "      <th>WindDirDegrees</th>\n",
       "    </tr>\n",
       "  </thead>\n",
       "  <tbody>\n",
       "    <tr>\n",
       "      <th>0</th>\n",
       "      <td>2012-03-10</td>\n",
       "      <td>56</td>\n",
       "      <td>40</td>\n",
       "      <td>24</td>\n",
       "      <td>24</td>\n",
       "      <td>20</td>\n",
       "      <td>16</td>\n",
       "      <td>74</td>\n",
       "      <td>50</td>\n",
       "      <td>26</td>\n",
       "      <td>30.53</td>\n",
       "      <td>30.45</td>\n",
       "      <td>30.34</td>\n",
       "      <td>10</td>\n",
       "      <td>10</td>\n",
       "      <td>10</td>\n",
       "      <td>13</td>\n",
       "      <td>6</td>\n",
       "      <td>17.0</td>\n",
       "      <td>0.00</td>\n",
       "      <td>0</td>\n",
       "      <td>NaN</td>\n",
       "      <td>138</td>\n",
       "    </tr>\n",
       "    <tr>\n",
       "      <th>1</th>\n",
       "      <td>2012-03-11</td>\n",
       "      <td>67</td>\n",
       "      <td>49</td>\n",
       "      <td>30</td>\n",
       "      <td>43</td>\n",
       "      <td>31</td>\n",
       "      <td>24</td>\n",
       "      <td>78</td>\n",
       "      <td>53</td>\n",
       "      <td>28</td>\n",
       "      <td>30.37</td>\n",
       "      <td>30.27</td>\n",
       "      <td>30.13</td>\n",
       "      <td>10</td>\n",
       "      <td>10</td>\n",
       "      <td>10</td>\n",
       "      <td>22</td>\n",
       "      <td>7</td>\n",
       "      <td>32.0</td>\n",
       "      <td>T</td>\n",
       "      <td>1</td>\n",
       "      <td>Rain</td>\n",
       "      <td>163</td>\n",
       "    </tr>\n",
       "    <tr>\n",
       "      <th>2</th>\n",
       "      <td>2012-03-12</td>\n",
       "      <td>71</td>\n",
       "      <td>62</td>\n",
       "      <td>53</td>\n",
       "      <td>59</td>\n",
       "      <td>55</td>\n",
       "      <td>43</td>\n",
       "      <td>90</td>\n",
       "      <td>76</td>\n",
       "      <td>61</td>\n",
       "      <td>30.13</td>\n",
       "      <td>29.99</td>\n",
       "      <td>29.88</td>\n",
       "      <td>10</td>\n",
       "      <td>10</td>\n",
       "      <td>6</td>\n",
       "      <td>24</td>\n",
       "      <td>14</td>\n",
       "      <td>36.0</td>\n",
       "      <td>0.03</td>\n",
       "      <td>6</td>\n",
       "      <td>Rain</td>\n",
       "      <td>190</td>\n",
       "    </tr>\n",
       "    <tr>\n",
       "      <th>3</th>\n",
       "      <td>2012-03-13</td>\n",
       "      <td>76</td>\n",
       "      <td>63</td>\n",
       "      <td>50</td>\n",
       "      <td>57</td>\n",
       "      <td>53</td>\n",
       "      <td>47</td>\n",
       "      <td>93</td>\n",
       "      <td>66</td>\n",
       "      <td>38</td>\n",
       "      <td>30.12</td>\n",
       "      <td>30.06</td>\n",
       "      <td>29.97</td>\n",
       "      <td>10</td>\n",
       "      <td>10</td>\n",
       "      <td>4</td>\n",
       "      <td>16</td>\n",
       "      <td>5</td>\n",
       "      <td>24.0</td>\n",
       "      <td>0.00</td>\n",
       "      <td>0</td>\n",
       "      <td>NaN</td>\n",
       "      <td>242</td>\n",
       "    </tr>\n",
       "    <tr>\n",
       "      <th>4</th>\n",
       "      <td>2012-03-14</td>\n",
       "      <td>80</td>\n",
       "      <td>62</td>\n",
       "      <td>44</td>\n",
       "      <td>58</td>\n",
       "      <td>52</td>\n",
       "      <td>43</td>\n",
       "      <td>93</td>\n",
       "      <td>68</td>\n",
       "      <td>42</td>\n",
       "      <td>30.15</td>\n",
       "      <td>30.10</td>\n",
       "      <td>30.04</td>\n",
       "      <td>10</td>\n",
       "      <td>10</td>\n",
       "      <td>10</td>\n",
       "      <td>16</td>\n",
       "      <td>6</td>\n",
       "      <td>22.0</td>\n",
       "      <td>0.00</td>\n",
       "      <td>0</td>\n",
       "      <td>NaN</td>\n",
       "      <td>202</td>\n",
       "    </tr>\n",
       "  </tbody>\n",
       "</table>\n",
       "</div>"
      ],
      "text/plain": [
       "         EDT  Max TemperatureF  Mean TemperatureF  Min TemperatureF  \\\n",
       "0 2012-03-10                56                 40                24   \n",
       "1 2012-03-11                67                 49                30   \n",
       "2 2012-03-12                71                 62                53   \n",
       "3 2012-03-13                76                 63                50   \n",
       "4 2012-03-14                80                 62                44   \n",
       "\n",
       "   Max Dew PointF  MeanDew PointF  Min DewpointF  Max Humidity  \\\n",
       "0              24              20             16            74   \n",
       "1              43              31             24            78   \n",
       "2              59              55             43            90   \n",
       "3              57              53             47            93   \n",
       "4              58              52             43            93   \n",
       "\n",
       "    Mean Humidity   Min Humidity   Max Sea Level PressureIn  \\\n",
       "0              50             26                      30.53   \n",
       "1              53             28                      30.37   \n",
       "2              76             61                      30.13   \n",
       "3              66             38                      30.12   \n",
       "4              68             42                      30.15   \n",
       "\n",
       "    Mean Sea Level PressureIn   Min Sea Level PressureIn  \\\n",
       "0                       30.45                      30.34   \n",
       "1                       30.27                      30.13   \n",
       "2                       29.99                      29.88   \n",
       "3                       30.06                      29.97   \n",
       "4                       30.10                      30.04   \n",
       "\n",
       "    Max VisibilityMiles   Mean VisibilityMiles   Min VisibilityMiles  \\\n",
       "0                    10                     10                    10   \n",
       "1                    10                     10                    10   \n",
       "2                    10                     10                     6   \n",
       "3                    10                     10                     4   \n",
       "4                    10                     10                    10   \n",
       "\n",
       "    Max Wind SpeedMPH   Mean Wind SpeedMPH   Max Gust SpeedMPH  \\\n",
       "0                  13                    6                17.0   \n",
       "1                  22                    7                32.0   \n",
       "2                  24                   14                36.0   \n",
       "3                  16                    5                24.0   \n",
       "4                  16                    6                22.0   \n",
       "\n",
       "  PrecipitationIn   CloudCover  Events   WindDirDegrees  \n",
       "0            0.00            0     NaN              138  \n",
       "1               T            1    Rain              163  \n",
       "2            0.03            6    Rain              190  \n",
       "3            0.00            0     NaN              242  \n",
       "4            0.00            0     NaN              202  "
      ]
     },
     "execution_count": 69,
     "metadata": {},
     "output_type": "execute_result"
    }
   ],
   "source": [
    "pd.options.display.max_columns = None\n",
    "\n",
    "dfw = pd.read_csv(weather, parse_dates=[0])\n",
    "dfw.head()"
   ]
  },
  {
   "cell_type": "code",
   "execution_count": 70,
   "metadata": {},
   "outputs": [
    {
     "data": {
      "text/plain": [
       "EDT                           datetime64[ns]\n",
       "Max TemperatureF                       int64\n",
       "Mean TemperatureF                      int64\n",
       "Min TemperatureF                       int64\n",
       "Max Dew PointF                         int64\n",
       "MeanDew PointF                         int64\n",
       "Min DewpointF                          int64\n",
       "Max Humidity                           int64\n",
       " Mean Humidity                         int64\n",
       " Min Humidity                          int64\n",
       " Max Sea Level PressureIn            float64\n",
       " Mean Sea Level PressureIn           float64\n",
       " Min Sea Level PressureIn            float64\n",
       " Max VisibilityMiles                   int64\n",
       " Mean VisibilityMiles                  int64\n",
       " Min VisibilityMiles                   int64\n",
       " Max Wind SpeedMPH                     int64\n",
       " Mean Wind SpeedMPH                    int64\n",
       " Max Gust SpeedMPH                   float64\n",
       "PrecipitationIn                       object\n",
       " CloudCover                            int64\n",
       " Events                               object\n",
       " WindDirDegrees                        int64\n",
       "dtype: object"
      ]
     },
     "execution_count": 70,
     "metadata": {},
     "output_type": "execute_result"
    }
   ],
   "source": [
    "#dfw.count() = nos da los datos disponibles en cada columna y puede ser una buena aproximacion a si hay NaN\n",
    "#dfw.describe() = nos da datos estadisticos importantes por cada columna, cuando vayamos desagregando datos nos serviran para modelos estadisticos\n",
    "#dfw.shape = interesante para conocer las dimensiones del df totales lineas y columnas\n",
    "#dfw.ndim = dimension del df \n",
    "#dfw.dtypes =  conocer si una columna es integer,float o string\n",
    "dfw.dtypes"
   ]
  },
  {
   "cell_type": "code",
   "execution_count": 71,
   "metadata": {},
   "outputs": [
    {
     "data": {
      "text/html": [
       "<div>\n",
       "<style scoped>\n",
       "    .dataframe tbody tr th:only-of-type {\n",
       "        vertical-align: middle;\n",
       "    }\n",
       "\n",
       "    .dataframe tbody tr th {\n",
       "        vertical-align: top;\n",
       "    }\n",
       "\n",
       "    .dataframe thead th {\n",
       "        text-align: right;\n",
       "    }\n",
       "</style>\n",
       "<table border=\"1\" class=\"dataframe\">\n",
       "  <thead>\n",
       "    <tr style=\"text-align: right;\">\n",
       "      <th></th>\n",
       "      <th>EDT</th>\n",
       "      <th>Mean TemperatureF</th>\n",
       "      <th>Mean Humidity</th>\n",
       "      <th>Events</th>\n",
       "      <th>WindDirDegrees</th>\n",
       "    </tr>\n",
       "  </thead>\n",
       "  <tbody>\n",
       "    <tr>\n",
       "      <th>0</th>\n",
       "      <td>2012-03-10</td>\n",
       "      <td>40</td>\n",
       "      <td>50</td>\n",
       "      <td>NaN</td>\n",
       "      <td>138</td>\n",
       "    </tr>\n",
       "    <tr>\n",
       "      <th>1</th>\n",
       "      <td>2012-03-11</td>\n",
       "      <td>49</td>\n",
       "      <td>53</td>\n",
       "      <td>Rain</td>\n",
       "      <td>163</td>\n",
       "    </tr>\n",
       "    <tr>\n",
       "      <th>2</th>\n",
       "      <td>2012-03-12</td>\n",
       "      <td>62</td>\n",
       "      <td>76</td>\n",
       "      <td>Rain</td>\n",
       "      <td>190</td>\n",
       "    </tr>\n",
       "    <tr>\n",
       "      <th>3</th>\n",
       "      <td>2012-03-13</td>\n",
       "      <td>63</td>\n",
       "      <td>66</td>\n",
       "      <td>NaN</td>\n",
       "      <td>242</td>\n",
       "    </tr>\n",
       "    <tr>\n",
       "      <th>4</th>\n",
       "      <td>2012-03-14</td>\n",
       "      <td>62</td>\n",
       "      <td>68</td>\n",
       "      <td>NaN</td>\n",
       "      <td>202</td>\n",
       "    </tr>\n",
       "  </tbody>\n",
       "</table>\n",
       "</div>"
      ],
      "text/plain": [
       "         EDT  Mean TemperatureF   Mean Humidity  Events   WindDirDegrees\n",
       "0 2012-03-10                 40              50     NaN              138\n",
       "1 2012-03-11                 49              53    Rain              163\n",
       "2 2012-03-12                 62              76    Rain              190\n",
       "3 2012-03-13                 63              66     NaN              242\n",
       "4 2012-03-14                 62              68     NaN              202"
      ]
     },
     "execution_count": 71,
     "metadata": {},
     "output_type": "execute_result"
    }
   ],
   "source": [
    "dfw1 = dfw[['EDT', 'Mean TemperatureF', ' Mean Humidity',' Events', ' WindDirDegrees']]\n",
    "dfw1.head()\n",
    "#Con la idea de seguir buscando relacion entre la direccion del viento, temperatura y la humedad con la nieve"
   ]
  },
  {
   "cell_type": "code",
   "execution_count": 72,
   "metadata": {},
   "outputs": [],
   "source": [
    "dfw2 = dfw1[dfw1[' Events'].isin(['Snow', 'Fog-Snow'])]"
   ]
  },
  {
   "cell_type": "code",
   "execution_count": 73,
   "metadata": {},
   "outputs": [
    {
     "data": {
      "text/html": [
       "<div>\n",
       "<style scoped>\n",
       "    .dataframe tbody tr th:only-of-type {\n",
       "        vertical-align: middle;\n",
       "    }\n",
       "\n",
       "    .dataframe tbody tr th {\n",
       "        vertical-align: top;\n",
       "    }\n",
       "\n",
       "    .dataframe thead th {\n",
       "        text-align: right;\n",
       "    }\n",
       "</style>\n",
       "<table border=\"1\" class=\"dataframe\">\n",
       "  <thead>\n",
       "    <tr style=\"text-align: right;\">\n",
       "      <th></th>\n",
       "      <th>EDT</th>\n",
       "      <th>Mean TemperatureF</th>\n",
       "      <th>Mean Humidity</th>\n",
       "      <th>Events</th>\n",
       "      <th>WindDirDegrees</th>\n",
       "    </tr>\n",
       "  </thead>\n",
       "  <tbody>\n",
       "    <tr>\n",
       "      <th>286</th>\n",
       "      <td>2012-12-21</td>\n",
       "      <td>26</td>\n",
       "      <td>74</td>\n",
       "      <td>Fog-Snow</td>\n",
       "      <td>285</td>\n",
       "    </tr>\n",
       "    <tr>\n",
       "      <th>291</th>\n",
       "      <td>2012-12-26</td>\n",
       "      <td>31</td>\n",
       "      <td>81</td>\n",
       "      <td>Fog-Snow</td>\n",
       "      <td>16</td>\n",
       "    </tr>\n",
       "    <tr>\n",
       "      <th>293</th>\n",
       "      <td>2012-12-28</td>\n",
       "      <td>31</td>\n",
       "      <td>80</td>\n",
       "      <td>Snow</td>\n",
       "      <td>119</td>\n",
       "    </tr>\n",
       "    <tr>\n",
       "      <th>294</th>\n",
       "      <td>2012-12-29</td>\n",
       "      <td>28</td>\n",
       "      <td>80</td>\n",
       "      <td>Fog-Snow</td>\n",
       "      <td>308</td>\n",
       "    </tr>\n",
       "    <tr>\n",
       "      <th>296</th>\n",
       "      <td>2012-12-31</td>\n",
       "      <td>31</td>\n",
       "      <td>78</td>\n",
       "      <td>Fog-Snow</td>\n",
       "      <td>228</td>\n",
       "    </tr>\n",
       "  </tbody>\n",
       "</table>\n",
       "</div>"
      ],
      "text/plain": [
       "           EDT  Mean TemperatureF   Mean Humidity    Events   WindDirDegrees\n",
       "286 2012-12-21                 26              74  Fog-Snow              285\n",
       "291 2012-12-26                 31              81  Fog-Snow               16\n",
       "293 2012-12-28                 31              80      Snow              119\n",
       "294 2012-12-29                 28              80  Fog-Snow              308\n",
       "296 2012-12-31                 31              78  Fog-Snow              228"
      ]
     },
     "execution_count": 73,
     "metadata": {},
     "output_type": "execute_result"
    }
   ],
   "source": [
    "dfw2.head()"
   ]
  },
  {
   "cell_type": "code",
   "execution_count": 74,
   "metadata": {},
   "outputs": [
    {
     "data": {
      "text/html": [
       "<div>\n",
       "<style scoped>\n",
       "    .dataframe tbody tr th:only-of-type {\n",
       "        vertical-align: middle;\n",
       "    }\n",
       "\n",
       "    .dataframe tbody tr th {\n",
       "        vertical-align: top;\n",
       "    }\n",
       "\n",
       "    .dataframe thead th {\n",
       "        text-align: right;\n",
       "    }\n",
       "</style>\n",
       "<table border=\"1\" class=\"dataframe\">\n",
       "  <thead>\n",
       "    <tr style=\"text-align: right;\">\n",
       "      <th></th>\n",
       "      <th>Mean TemperatureF</th>\n",
       "      <th>Mean Humidity</th>\n",
       "      <th>WindDirDegrees</th>\n",
       "    </tr>\n",
       "  </thead>\n",
       "  <tbody>\n",
       "    <tr>\n",
       "      <th>count</th>\n",
       "      <td>18.000000</td>\n",
       "      <td>18.000000</td>\n",
       "      <td>18.000000</td>\n",
       "    </tr>\n",
       "    <tr>\n",
       "      <th>mean</th>\n",
       "      <td>26.277778</td>\n",
       "      <td>72.888889</td>\n",
       "      <td>234.777778</td>\n",
       "    </tr>\n",
       "    <tr>\n",
       "      <th>std</th>\n",
       "      <td>6.210101</td>\n",
       "      <td>9.779263</td>\n",
       "      <td>95.580305</td>\n",
       "    </tr>\n",
       "    <tr>\n",
       "      <th>min</th>\n",
       "      <td>11.000000</td>\n",
       "      <td>50.000000</td>\n",
       "      <td>16.000000</td>\n",
       "    </tr>\n",
       "    <tr>\n",
       "      <th>25%</th>\n",
       "      <td>22.500000</td>\n",
       "      <td>67.750000</td>\n",
       "      <td>207.750000</td>\n",
       "    </tr>\n",
       "    <tr>\n",
       "      <th>50%</th>\n",
       "      <td>27.000000</td>\n",
       "      <td>73.000000</td>\n",
       "      <td>257.500000</td>\n",
       "    </tr>\n",
       "    <tr>\n",
       "      <th>75%</th>\n",
       "      <td>31.000000</td>\n",
       "      <td>80.000000</td>\n",
       "      <td>291.000000</td>\n",
       "    </tr>\n",
       "    <tr>\n",
       "      <th>max</th>\n",
       "      <td>36.000000</td>\n",
       "      <td>87.000000</td>\n",
       "      <td>351.000000</td>\n",
       "    </tr>\n",
       "  </tbody>\n",
       "</table>\n",
       "</div>"
      ],
      "text/plain": [
       "       Mean TemperatureF   Mean Humidity   WindDirDegrees\n",
       "count          18.000000       18.000000        18.000000\n",
       "mean           26.277778       72.888889       234.777778\n",
       "std             6.210101        9.779263        95.580305\n",
       "min            11.000000       50.000000        16.000000\n",
       "25%            22.500000       67.750000       207.750000\n",
       "50%            27.000000       73.000000       257.500000\n",
       "75%            31.000000       80.000000       291.000000\n",
       "max            36.000000       87.000000       351.000000"
      ]
     },
     "execution_count": 74,
     "metadata": {},
     "output_type": "execute_result"
    }
   ],
   "source": [
    "dfw2.describe()\n",
    "#hay un dato que llama la atencion en la direccion del viento, el 75% de los casos esta en valores >207 "
   ]
  },
  {
   "cell_type": "code",
   "execution_count": 75,
   "metadata": {},
   "outputs": [],
   "source": [
    "dfw2.index = dfw2['EDT']"
   ]
  },
  {
   "cell_type": "code",
   "execution_count": 76,
   "metadata": {},
   "outputs": [
    {
     "data": {
      "text/html": [
       "<div>\n",
       "<style scoped>\n",
       "    .dataframe tbody tr th:only-of-type {\n",
       "        vertical-align: middle;\n",
       "    }\n",
       "\n",
       "    .dataframe tbody tr th {\n",
       "        vertical-align: top;\n",
       "    }\n",
       "\n",
       "    .dataframe thead th {\n",
       "        text-align: right;\n",
       "    }\n",
       "</style>\n",
       "<table border=\"1\" class=\"dataframe\">\n",
       "  <thead>\n",
       "    <tr style=\"text-align: right;\">\n",
       "      <th></th>\n",
       "      <th>EDT</th>\n",
       "      <th>Mean TemperatureF</th>\n",
       "      <th>Mean Humidity</th>\n",
       "      <th>Events</th>\n",
       "      <th>WindDirDegrees</th>\n",
       "    </tr>\n",
       "    <tr>\n",
       "      <th>EDT</th>\n",
       "      <th></th>\n",
       "      <th></th>\n",
       "      <th></th>\n",
       "      <th></th>\n",
       "      <th></th>\n",
       "    </tr>\n",
       "  </thead>\n",
       "  <tbody>\n",
       "    <tr>\n",
       "      <th>2012-12-21</th>\n",
       "      <td>2012-12-21</td>\n",
       "      <td>26</td>\n",
       "      <td>74</td>\n",
       "      <td>Fog-Snow</td>\n",
       "      <td>285</td>\n",
       "    </tr>\n",
       "    <tr>\n",
       "      <th>2012-12-26</th>\n",
       "      <td>2012-12-26</td>\n",
       "      <td>31</td>\n",
       "      <td>81</td>\n",
       "      <td>Fog-Snow</td>\n",
       "      <td>16</td>\n",
       "    </tr>\n",
       "    <tr>\n",
       "      <th>2012-12-28</th>\n",
       "      <td>2012-12-28</td>\n",
       "      <td>31</td>\n",
       "      <td>80</td>\n",
       "      <td>Snow</td>\n",
       "      <td>119</td>\n",
       "    </tr>\n",
       "    <tr>\n",
       "      <th>2012-12-29</th>\n",
       "      <td>2012-12-29</td>\n",
       "      <td>28</td>\n",
       "      <td>80</td>\n",
       "      <td>Fog-Snow</td>\n",
       "      <td>308</td>\n",
       "    </tr>\n",
       "    <tr>\n",
       "      <th>2012-12-31</th>\n",
       "      <td>2012-12-31</td>\n",
       "      <td>31</td>\n",
       "      <td>78</td>\n",
       "      <td>Fog-Snow</td>\n",
       "      <td>228</td>\n",
       "    </tr>\n",
       "  </tbody>\n",
       "</table>\n",
       "</div>"
      ],
      "text/plain": [
       "                  EDT  Mean TemperatureF   Mean Humidity    Events  \\\n",
       "EDT                                                                  \n",
       "2012-12-21 2012-12-21                 26              74  Fog-Snow   \n",
       "2012-12-26 2012-12-26                 31              81  Fog-Snow   \n",
       "2012-12-28 2012-12-28                 31              80      Snow   \n",
       "2012-12-29 2012-12-29                 28              80  Fog-Snow   \n",
       "2012-12-31 2012-12-31                 31              78  Fog-Snow   \n",
       "\n",
       "             WindDirDegrees  \n",
       "EDT                          \n",
       "2012-12-21              285  \n",
       "2012-12-26               16  \n",
       "2012-12-28              119  \n",
       "2012-12-29              308  \n",
       "2012-12-31              228  "
      ]
     },
     "execution_count": 76,
     "metadata": {},
     "output_type": "execute_result"
    }
   ],
   "source": [
    "dfw2.head()"
   ]
  },
  {
   "cell_type": "code",
   "execution_count": 77,
   "metadata": {},
   "outputs": [],
   "source": [
    "dfw2 = dfw2.drop('EDT', axis=1)\n",
    "#da error porque lo he corrido una vez ya y esa columna por lo tanto ya no existe\n"
   ]
  },
  {
   "cell_type": "code",
   "execution_count": 78,
   "metadata": {},
   "outputs": [
    {
     "data": {
      "text/html": [
       "<div>\n",
       "<style scoped>\n",
       "    .dataframe tbody tr th:only-of-type {\n",
       "        vertical-align: middle;\n",
       "    }\n",
       "\n",
       "    .dataframe tbody tr th {\n",
       "        vertical-align: top;\n",
       "    }\n",
       "\n",
       "    .dataframe thead th {\n",
       "        text-align: right;\n",
       "    }\n",
       "</style>\n",
       "<table border=\"1\" class=\"dataframe\">\n",
       "  <thead>\n",
       "    <tr style=\"text-align: right;\">\n",
       "      <th></th>\n",
       "      <th>Mean TemperatureF</th>\n",
       "      <th>Mean Humidity</th>\n",
       "      <th>Events</th>\n",
       "      <th>WindDirDegrees</th>\n",
       "    </tr>\n",
       "    <tr>\n",
       "      <th>EDT</th>\n",
       "      <th></th>\n",
       "      <th></th>\n",
       "      <th></th>\n",
       "      <th></th>\n",
       "    </tr>\n",
       "  </thead>\n",
       "  <tbody>\n",
       "    <tr>\n",
       "      <th>2012-12-21</th>\n",
       "      <td>26</td>\n",
       "      <td>74</td>\n",
       "      <td>Fog-Snow</td>\n",
       "      <td>285</td>\n",
       "    </tr>\n",
       "    <tr>\n",
       "      <th>2012-12-26</th>\n",
       "      <td>31</td>\n",
       "      <td>81</td>\n",
       "      <td>Fog-Snow</td>\n",
       "      <td>16</td>\n",
       "    </tr>\n",
       "    <tr>\n",
       "      <th>2012-12-28</th>\n",
       "      <td>31</td>\n",
       "      <td>80</td>\n",
       "      <td>Snow</td>\n",
       "      <td>119</td>\n",
       "    </tr>\n",
       "    <tr>\n",
       "      <th>2012-12-29</th>\n",
       "      <td>28</td>\n",
       "      <td>80</td>\n",
       "      <td>Fog-Snow</td>\n",
       "      <td>308</td>\n",
       "    </tr>\n",
       "    <tr>\n",
       "      <th>2012-12-31</th>\n",
       "      <td>31</td>\n",
       "      <td>78</td>\n",
       "      <td>Fog-Snow</td>\n",
       "      <td>228</td>\n",
       "    </tr>\n",
       "  </tbody>\n",
       "</table>\n",
       "</div>"
      ],
      "text/plain": [
       "            Mean TemperatureF   Mean Humidity    Events   WindDirDegrees\n",
       "EDT                                                                     \n",
       "2012-12-21                 26              74  Fog-Snow              285\n",
       "2012-12-26                 31              81  Fog-Snow               16\n",
       "2012-12-28                 31              80      Snow              119\n",
       "2012-12-29                 28              80  Fog-Snow              308\n",
       "2012-12-31                 31              78  Fog-Snow              228"
      ]
     },
     "execution_count": 78,
     "metadata": {},
     "output_type": "execute_result"
    }
   ],
   "source": [
    "dfw2.head()"
   ]
  },
  {
   "cell_type": "code",
   "execution_count": 79,
   "metadata": {},
   "outputs": [
    {
     "data": {
      "text/plain": [
       "22.22222222222222"
      ]
     },
     "execution_count": 79,
     "metadata": {},
     "output_type": "execute_result"
    }
   ],
   "source": [
    "# Vamos a empezar a pasar la temperatura de Farenheit a Centigrados, creamos una funcion y luego la aplicamos sobre las columnas de temperatura\n",
    "\n",
    "def conver_F(f):\n",
    "    return (f - 32) / 1.8\n",
    "\n",
    "conver_F(72)"
   ]
  },
  {
   "cell_type": "code",
   "execution_count": 80,
   "metadata": {},
   "outputs": [
    {
     "data": {
      "text/plain": [
       "1"
      ]
     },
     "execution_count": 80,
     "metadata": {},
     "output_type": "execute_result"
    }
   ],
   "source": [
    "# Para saber y poder visualizar mejor si la direccion del viento afecta a la mayoria de dias que nieva, la informacion actual es dificil de comprender.\n",
    "# Voy a generar una segunda funcion que permita aglutinar los vientos por 1: (316 - 45 grados) 2: Este (46 -135)\n",
    "# 3: Sur (136-225) 4: Oeste (226-315) \n",
    "\n",
    "def conver_W(wind):\n",
    "    \n",
    "    if wind in range(0,46):\n",
    "        return 1\n",
    "    elif wind in range(46,136):\n",
    "        return 2\n",
    "    elif wind in range(136,226):\n",
    "        return 3\n",
    "    elif wind in range(226,316):\n",
    "        return 4\n",
    "    else:\n",
    "        return 1\n",
    "conver_W(0)\n"
   ]
  },
  {
   "cell_type": "code",
   "execution_count": 81,
   "metadata": {},
   "outputs": [
    {
     "data": {
      "text/html": [
       "<div>\n",
       "<style scoped>\n",
       "    .dataframe tbody tr th:only-of-type {\n",
       "        vertical-align: middle;\n",
       "    }\n",
       "\n",
       "    .dataframe tbody tr th {\n",
       "        vertical-align: top;\n",
       "    }\n",
       "\n",
       "    .dataframe thead th {\n",
       "        text-align: right;\n",
       "    }\n",
       "</style>\n",
       "<table border=\"1\" class=\"dataframe\">\n",
       "  <thead>\n",
       "    <tr style=\"text-align: right;\">\n",
       "      <th></th>\n",
       "      <th>Mean TemperatureF</th>\n",
       "      <th>Mean Humidity</th>\n",
       "      <th>Events</th>\n",
       "      <th>WindDirDegrees</th>\n",
       "      <th>Mean TemperatureC</th>\n",
       "    </tr>\n",
       "    <tr>\n",
       "      <th>EDT</th>\n",
       "      <th></th>\n",
       "      <th></th>\n",
       "      <th></th>\n",
       "      <th></th>\n",
       "      <th></th>\n",
       "    </tr>\n",
       "  </thead>\n",
       "  <tbody>\n",
       "    <tr>\n",
       "      <th>2012-12-21</th>\n",
       "      <td>26</td>\n",
       "      <td>74</td>\n",
       "      <td>Fog-Snow</td>\n",
       "      <td>285</td>\n",
       "      <td>-3.333333</td>\n",
       "    </tr>\n",
       "    <tr>\n",
       "      <th>2012-12-26</th>\n",
       "      <td>31</td>\n",
       "      <td>81</td>\n",
       "      <td>Fog-Snow</td>\n",
       "      <td>16</td>\n",
       "      <td>-0.555556</td>\n",
       "    </tr>\n",
       "    <tr>\n",
       "      <th>2012-12-28</th>\n",
       "      <td>31</td>\n",
       "      <td>80</td>\n",
       "      <td>Snow</td>\n",
       "      <td>119</td>\n",
       "      <td>-0.555556</td>\n",
       "    </tr>\n",
       "    <tr>\n",
       "      <th>2012-12-29</th>\n",
       "      <td>28</td>\n",
       "      <td>80</td>\n",
       "      <td>Fog-Snow</td>\n",
       "      <td>308</td>\n",
       "      <td>-2.222222</td>\n",
       "    </tr>\n",
       "    <tr>\n",
       "      <th>2012-12-31</th>\n",
       "      <td>31</td>\n",
       "      <td>78</td>\n",
       "      <td>Fog-Snow</td>\n",
       "      <td>228</td>\n",
       "      <td>-0.555556</td>\n",
       "    </tr>\n",
       "  </tbody>\n",
       "</table>\n",
       "</div>"
      ],
      "text/plain": [
       "            Mean TemperatureF   Mean Humidity    Events   WindDirDegrees  \\\n",
       "EDT                                                                        \n",
       "2012-12-21                 26              74  Fog-Snow              285   \n",
       "2012-12-26                 31              81  Fog-Snow               16   \n",
       "2012-12-28                 31              80      Snow              119   \n",
       "2012-12-29                 28              80  Fog-Snow              308   \n",
       "2012-12-31                 31              78  Fog-Snow              228   \n",
       "\n",
       "            Mean TemperatureC  \n",
       "EDT                            \n",
       "2012-12-21          -3.333333  \n",
       "2012-12-26          -0.555556  \n",
       "2012-12-28          -0.555556  \n",
       "2012-12-29          -2.222222  \n",
       "2012-12-31          -0.555556  "
      ]
     },
     "execution_count": 81,
     "metadata": {},
     "output_type": "execute_result"
    }
   ],
   "source": [
    "dfw2['Mean TemperatureC'] = dfw2['Mean TemperatureF'].apply(conver_F)\n",
    "dfw2.head()"
   ]
  },
  {
   "cell_type": "code",
   "execution_count": 82,
   "metadata": {},
   "outputs": [
    {
     "data": {
      "text/html": [
       "<div>\n",
       "<style scoped>\n",
       "    .dataframe tbody tr th:only-of-type {\n",
       "        vertical-align: middle;\n",
       "    }\n",
       "\n",
       "    .dataframe tbody tr th {\n",
       "        vertical-align: top;\n",
       "    }\n",
       "\n",
       "    .dataframe thead th {\n",
       "        text-align: right;\n",
       "    }\n",
       "</style>\n",
       "<table border=\"1\" class=\"dataframe\">\n",
       "  <thead>\n",
       "    <tr style=\"text-align: right;\">\n",
       "      <th></th>\n",
       "      <th>Mean TemperatureF</th>\n",
       "      <th>Mean Humidity</th>\n",
       "      <th>Events</th>\n",
       "      <th>WindDirDegrees</th>\n",
       "      <th>Mean TemperatureC</th>\n",
       "    </tr>\n",
       "    <tr>\n",
       "      <th>EDT</th>\n",
       "      <th></th>\n",
       "      <th></th>\n",
       "      <th></th>\n",
       "      <th></th>\n",
       "      <th></th>\n",
       "    </tr>\n",
       "  </thead>\n",
       "  <tbody>\n",
       "    <tr>\n",
       "      <th>2012-12-21</th>\n",
       "      <td>26</td>\n",
       "      <td>74</td>\n",
       "      <td>Fog-Snow</td>\n",
       "      <td>4</td>\n",
       "      <td>-3.333333</td>\n",
       "    </tr>\n",
       "    <tr>\n",
       "      <th>2012-12-26</th>\n",
       "      <td>31</td>\n",
       "      <td>81</td>\n",
       "      <td>Fog-Snow</td>\n",
       "      <td>1</td>\n",
       "      <td>-0.555556</td>\n",
       "    </tr>\n",
       "    <tr>\n",
       "      <th>2012-12-28</th>\n",
       "      <td>31</td>\n",
       "      <td>80</td>\n",
       "      <td>Snow</td>\n",
       "      <td>2</td>\n",
       "      <td>-0.555556</td>\n",
       "    </tr>\n",
       "    <tr>\n",
       "      <th>2012-12-29</th>\n",
       "      <td>28</td>\n",
       "      <td>80</td>\n",
       "      <td>Fog-Snow</td>\n",
       "      <td>4</td>\n",
       "      <td>-2.222222</td>\n",
       "    </tr>\n",
       "    <tr>\n",
       "      <th>2012-12-31</th>\n",
       "      <td>31</td>\n",
       "      <td>78</td>\n",
       "      <td>Fog-Snow</td>\n",
       "      <td>4</td>\n",
       "      <td>-0.555556</td>\n",
       "    </tr>\n",
       "  </tbody>\n",
       "</table>\n",
       "</div>"
      ],
      "text/plain": [
       "            Mean TemperatureF   Mean Humidity    Events   WindDirDegrees  \\\n",
       "EDT                                                                        \n",
       "2012-12-21                 26              74  Fog-Snow                4   \n",
       "2012-12-26                 31              81  Fog-Snow                1   \n",
       "2012-12-28                 31              80      Snow                2   \n",
       "2012-12-29                 28              80  Fog-Snow                4   \n",
       "2012-12-31                 31              78  Fog-Snow                4   \n",
       "\n",
       "            Mean TemperatureC  \n",
       "EDT                            \n",
       "2012-12-21          -3.333333  \n",
       "2012-12-26          -0.555556  \n",
       "2012-12-28          -0.555556  \n",
       "2012-12-29          -2.222222  \n",
       "2012-12-31          -0.555556  "
      ]
     },
     "execution_count": 82,
     "metadata": {},
     "output_type": "execute_result"
    }
   ],
   "source": [
    "dfw2[' WindDirDegrees'] = dfw2[' WindDirDegrees'].apply(conver_W)\n",
    "dfw2.head()"
   ]
  },
  {
   "cell_type": "code",
   "execution_count": 83,
   "metadata": {},
   "outputs": [],
   "source": [
    "dfw2 = dfw2.drop('Mean TemperatureF', axis=1)"
   ]
  },
  {
   "cell_type": "code",
   "execution_count": 84,
   "metadata": {},
   "outputs": [
    {
     "data": {
      "image/png": "[encoded data removed]",
      "text/plain": [
       "<Figure size 720x504 with 1 Axes>"
      ]
     },
     "metadata": {},
     "output_type": "display_data"
    }
   ],
   "source": [
    "dfw2.plot(figsize=(10,7));"
   ]
  },
  {
   "cell_type": "code",
   "execution_count": 85,
   "metadata": {},
   "outputs": [
    {
     "data": {
      "image/png": "[encoded data removed]",
      "text/plain": [
       "<Figure size 720x360 with 4 Axes>"
      ]
     },
     "metadata": {},
     "output_type": "display_data"
    }
   ],
   "source": [
    "dfw2.hist(figsize=(10,5), bins=20);"
   ]
  },
  {
   "cell_type": "code",
   "execution_count": 86,
   "metadata": {},
   "outputs": [
    {
     "name": "stderr",
     "output_type": "stream",
     "text": [
      "/home/vant/anaconda3/lib/python3.6/site-packages/matplotlib/axes/_axes.py:6462: UserWarning:\n",
      "\n",
      "The 'normed' kwarg is deprecated, and has been replaced by the 'density' kwarg.\n",
      "\n"
     ]
    },
    {
     "data": {
      "image/png": "[encoded data removed]",
      "text/plain": [
       "<Figure size 432x288 with 1 Axes>"
      ]
     },
     "metadata": {},
     "output_type": "display_data"
    }
   ],
   "source": [
    "import seaborn as sns\n",
    "\n",
    "sns.distplot(dfw2[' WindDirDegrees'], bins=20);"
   ]
  },
  {
   "cell_type": "code",
   "execution_count": 87,
   "metadata": {},
   "outputs": [
    {
     "data": {
      "image/png": "[encoded data removed]",
      "text/plain": [
       "<Figure size 432x432 with 3 Axes>"
      ]
     },
     "metadata": {},
     "output_type": "display_data"
    }
   ],
   "source": [
    "sns.jointplot(data=dfw2, x='Mean TemperatureC', y=' WindDirDegrees', kind='kde');"
   ]
  },
  {
   "cell_type": "code",
   "execution_count": 88,
   "metadata": {},
   "outputs": [
    {
     "data": {
      "image/png": "[encoded data removed]",
      "text/plain": [
       "<Figure size 432x432 with 3 Axes>"
      ]
     },
     "metadata": {},
     "output_type": "display_data"
    }
   ],
   "source": [
    "sns.jointplot(data=dfw2, x=' Mean Humidity', y=' WindDirDegrees', kind='kde');"
   ]
  },
  {
   "cell_type": "code",
   "execution_count": 94,
   "metadata": {},
   "outputs": [],
   "source": [
    "dfw3 = dfw2[dfw2[' WindDirDegrees'] >= 3]"
   ]
  },
  {
   "cell_type": "code",
   "execution_count": 95,
   "metadata": {},
   "outputs": [
    {
     "data": {
      "text/html": [
       "<div>\n",
       "<style scoped>\n",
       "    .dataframe tbody tr th:only-of-type {\n",
       "        vertical-align: middle;\n",
       "    }\n",
       "\n",
       "    .dataframe tbody tr th {\n",
       "        vertical-align: top;\n",
       "    }\n",
       "\n",
       "    .dataframe thead th {\n",
       "        text-align: right;\n",
       "    }\n",
       "</style>\n",
       "<table border=\"1\" class=\"dataframe\">\n",
       "  <thead>\n",
       "    <tr style=\"text-align: right;\">\n",
       "      <th></th>\n",
       "      <th>Mean Humidity</th>\n",
       "      <th>Events</th>\n",
       "      <th>WindDirDegrees</th>\n",
       "      <th>Mean TemperatureC</th>\n",
       "    </tr>\n",
       "    <tr>\n",
       "      <th>EDT</th>\n",
       "      <th></th>\n",
       "      <th></th>\n",
       "      <th></th>\n",
       "      <th></th>\n",
       "    </tr>\n",
       "  </thead>\n",
       "  <tbody>\n",
       "    <tr>\n",
       "      <th>2012-12-21</th>\n",
       "      <td>74</td>\n",
       "      <td>Fog-Snow</td>\n",
       "      <td>4</td>\n",
       "      <td>-3.333333</td>\n",
       "    </tr>\n",
       "    <tr>\n",
       "      <th>2012-12-29</th>\n",
       "      <td>80</td>\n",
       "      <td>Fog-Snow</td>\n",
       "      <td>4</td>\n",
       "      <td>-2.222222</td>\n",
       "    </tr>\n",
       "    <tr>\n",
       "      <th>2012-12-31</th>\n",
       "      <td>78</td>\n",
       "      <td>Fog-Snow</td>\n",
       "      <td>4</td>\n",
       "      <td>-0.555556</td>\n",
       "    </tr>\n",
       "    <tr>\n",
       "      <th>2013-01-05</th>\n",
       "      <td>70</td>\n",
       "      <td>Snow</td>\n",
       "      <td>3</td>\n",
       "      <td>-4.444444</td>\n",
       "    </tr>\n",
       "    <tr>\n",
       "      <th>2013-01-25</th>\n",
       "      <td>57</td>\n",
       "      <td>Snow</td>\n",
       "      <td>3</td>\n",
       "      <td>-3.888889</td>\n",
       "    </tr>\n",
       "  </tbody>\n",
       "</table>\n",
       "</div>"
      ],
      "text/plain": [
       "             Mean Humidity    Events   WindDirDegrees  Mean TemperatureC\n",
       "EDT                                                                     \n",
       "2012-12-21              74  Fog-Snow                4          -3.333333\n",
       "2012-12-29              80  Fog-Snow                4          -2.222222\n",
       "2012-12-31              78  Fog-Snow                4          -0.555556\n",
       "2013-01-05              70      Snow                3          -4.444444\n",
       "2013-01-25              57      Snow                3          -3.888889"
      ]
     },
     "execution_count": 95,
     "metadata": {},
     "output_type": "execute_result"
    }
   ],
   "source": [
    "dfw3.head()"
   ]
  },
  {
   "cell_type": "code",
   "execution_count": 100,
   "metadata": {},
   "outputs": [
    {
     "data": {
      "text/html": [
       "<div>\n",
       "<style scoped>\n",
       "    .dataframe tbody tr th:only-of-type {\n",
       "        vertical-align: middle;\n",
       "    }\n",
       "\n",
       "    .dataframe tbody tr th {\n",
       "        vertical-align: top;\n",
       "    }\n",
       "\n",
       "    .dataframe thead th {\n",
       "        text-align: right;\n",
       "    }\n",
       "</style>\n",
       "<table border=\"1\" class=\"dataframe\">\n",
       "  <thead>\n",
       "    <tr style=\"text-align: right;\">\n",
       "      <th></th>\n",
       "      <th>EDT</th>\n",
       "      <th>Mean Humidity</th>\n",
       "      <th>Events</th>\n",
       "      <th>WindDirDegrees</th>\n",
       "      <th>Mean TemperatureC</th>\n",
       "    </tr>\n",
       "  </thead>\n",
       "  <tbody>\n",
       "    <tr>\n",
       "      <th>0</th>\n",
       "      <td>2012-12-21</td>\n",
       "      <td>74</td>\n",
       "      <td>Fog-Snow</td>\n",
       "      <td>4</td>\n",
       "      <td>-3.333333</td>\n",
       "    </tr>\n",
       "    <tr>\n",
       "      <th>1</th>\n",
       "      <td>2012-12-29</td>\n",
       "      <td>80</td>\n",
       "      <td>Fog-Snow</td>\n",
       "      <td>4</td>\n",
       "      <td>-2.222222</td>\n",
       "    </tr>\n",
       "    <tr>\n",
       "      <th>2</th>\n",
       "      <td>2012-12-31</td>\n",
       "      <td>78</td>\n",
       "      <td>Fog-Snow</td>\n",
       "      <td>4</td>\n",
       "      <td>-0.555556</td>\n",
       "    </tr>\n",
       "    <tr>\n",
       "      <th>3</th>\n",
       "      <td>2013-01-05</td>\n",
       "      <td>70</td>\n",
       "      <td>Snow</td>\n",
       "      <td>3</td>\n",
       "      <td>-4.444444</td>\n",
       "    </tr>\n",
       "    <tr>\n",
       "      <th>4</th>\n",
       "      <td>2013-01-25</td>\n",
       "      <td>57</td>\n",
       "      <td>Snow</td>\n",
       "      <td>3</td>\n",
       "      <td>-3.888889</td>\n",
       "    </tr>\n",
       "  </tbody>\n",
       "</table>\n",
       "</div>"
      ],
      "text/plain": [
       "         EDT   Mean Humidity    Events   WindDirDegrees  Mean TemperatureC\n",
       "0 2012-12-21              74  Fog-Snow                4          -3.333333\n",
       "1 2012-12-29              80  Fog-Snow                4          -2.222222\n",
       "2 2012-12-31              78  Fog-Snow                4          -0.555556\n",
       "3 2013-01-05              70      Snow                3          -4.444444\n",
       "4 2013-01-25              57      Snow                3          -3.888889"
      ]
     },
     "execution_count": 100,
     "metadata": {},
     "output_type": "execute_result"
    }
   ],
   "source": [
    "dfw4 = dfw3.reset_index()\n",
    "dfw4.head()"
   ]
  },
  {
   "cell_type": "code",
   "execution_count": 101,
   "metadata": {},
   "outputs": [
    {
     "data": {
      "text/html": [
       "<script type=\"text/javascript\">window.PlotlyConfig = {MathJaxConfig: 'local'};</script><script type=\"text/javascript\">if (window.MathJax) {MathJax.Hub.Config({SVG: {font: \"STIX-Web\"}});}</script><script>requirejs.config({paths: { 'plotly': ['https://cdn.plot.ly/plotly-latest.min']},});if(!window._Plotly) {require(['plotly'],function(plotly) {window._Plotly=plotly;});}</script>"
      ],
      "text/vnd.plotly.v1+html": [
       "<script type=\"text/javascript\">window.PlotlyConfig = {MathJaxConfig: 'local'};</script><script type=\"text/javascript\">if (window.MathJax) {MathJax.Hub.Config({SVG: {font: \"STIX-Web\"}});}</script><script>requirejs.config({paths: { 'plotly': ['https://cdn.plot.ly/plotly-latest.min']},});if(!window._Plotly) {require(['plotly'],function(plotly) {window._Plotly=plotly;});}</script>"
      ]
     },
     "metadata": {},
     "output_type": "display_data"
    },
    {
     "data": {
      "application/vnd.plotly.v1+json": {
       "config": {
        "linkText": "Export to plot.ly",
        "plotlyServerURL": "https://plot.ly",
        "showLink": false
       },
       "data": [
        {
         "marker": {
          "color": "red",
          "size": 12
         },
         "mode": "markers",
         "name": "MeanC",
         "type": "scatter",
         "uid": "d1b024af-9de3-4ec9-a1a2-fe86c06dd42b",
         "x": [
          "2012-12-21",
          "2012-12-29",
          "2012-12-31",
          "2013-01-05",
          "2013-01-25",
          "2013-01-31",
          "2013-02-01",
          "2013-02-02",
          "2013-02-03",
          "2013-02-04",
          "2013-02-27",
          "2013-03-03",
          "2013-03-06"
         ],
         "y": [
          -3.333333333333333,
          -2.2222222222222223,
          -0.5555555555555556,
          -4.444444444444445,
          -3.888888888888889,
          -6.111111111111111,
          -11.666666666666666,
          -5.555555555555555,
          -7.222222222222222,
          -3.333333333333333,
          2.2222222222222223,
          -2.2222222222222223,
          -0.5555555555555556
         ]
        },
        {
         "marker": {
          "color": "blue",
          "size": 12
         },
         "mode": "markers",
         "name": "MeanH",
         "type": "scatter",
         "uid": "3da1bca6-6d8c-41f0-ab2a-31d720977d86",
         "x": [
          "2012-12-21",
          "2012-12-29",
          "2012-12-31",
          "2013-01-05",
          "2013-01-25",
          "2013-01-31",
          "2013-02-01",
          "2013-02-02",
          "2013-02-03",
          "2013-02-04",
          "2013-02-27",
          "2013-03-03",
          "2013-03-06"
         ],
         "y": [
          74,
          80,
          78,
          70,
          57,
          67,
          65,
          71,
          80,
          72,
          87,
          63,
          85
         ]
        }
       ],
       "layout": {
        "title": {
         "text": "Snowing at San Francisco"
        },
        "xaxis": {
         "title": {
          "text": "Days"
         }
        },
        "yaxis": {
         "title": {
          "text": "MeanVariable"
         }
        }
       }
      },
      "text/html": [
       "<div id=\"c37cbe95-0353-4f96-8ff4-100aaaa8c537\" style=\"height: 525px; width: 100%;\" class=\"plotly-graph-div\"></div><script type=\"text/javascript\">require([\"plotly\"], function(Plotly) { window.PLOTLYENV=window.PLOTLYENV || {};window.PLOTLYENV.BASE_URL=\"https://plot.ly\";Plotly.newPlot(\"c37cbe95-0353-4f96-8ff4-100aaaa8c537\", [{\"marker\": {\"color\": \"red\", \"size\": 12}, \"mode\": \"markers\", \"name\": \"MeanC\", \"x\": [\"2012-12-21\", \"2012-12-29\", \"2012-12-31\", \"2013-01-05\", \"2013-01-25\", \"2013-01-31\", \"2013-02-01\", \"2013-02-02\", \"2013-02-03\", \"2013-02-04\", \"2013-02-27\", \"2013-03-03\", \"2013-03-06\"], \"y\": [-3.333333333333333, -2.2222222222222223, -0.5555555555555556, -4.444444444444445, -3.888888888888889, -6.111111111111111, -11.666666666666666, -5.555555555555555, -7.222222222222222, -3.333333333333333, 2.2222222222222223, -2.2222222222222223, -0.5555555555555556], \"type\": \"scatter\", \"uid\": \"d1b024af-9de3-4ec9-a1a2-fe86c06dd42b\"}, {\"marker\": {\"color\": \"blue\", \"size\": 12}, \"mode\": \"markers\", \"name\": \"MeanH\", \"x\": [\"2012-12-21\", \"2012-12-29\", \"2012-12-31\", \"2013-01-05\", \"2013-01-25\", \"2013-01-31\", \"2013-02-01\", \"2013-02-02\", \"2013-02-03\", \"2013-02-04\", \"2013-02-27\", \"2013-03-03\", \"2013-03-06\"], \"y\": [74, 80, 78, 70, 57, 67, 65, 71, 80, 72, 87, 63, 85], \"type\": \"scatter\", \"uid\": \"3da1bca6-6d8c-41f0-ab2a-31d720977d86\"}], {\"title\": {\"text\": \"Snowing at San Francisco\"}, \"xaxis\": {\"title\": {\"text\": \"Days\"}}, \"yaxis\": {\"title\": {\"text\": \"MeanVariable\"}}}, {\"showLink\": false, \"linkText\": \"Export to plot.ly\", \"plotlyServerURL\": \"https://plot.ly\"})});</script><script type=\"text/javascript\">window.addEventListener(\"resize\", function(){window._Plotly.Plots.resize(document.getElementById(\"c37cbe95-0353-4f96-8ff4-100aaaa8c537\"));});</script>"
      ],
      "text/vnd.plotly.v1+html": [
       "<div id=\"c37cbe95-0353-4f96-8ff4-100aaaa8c537\" style=\"height: 525px; width: 100%;\" class=\"plotly-graph-div\"></div><script type=\"text/javascript\">require([\"plotly\"], function(Plotly) { window.PLOTLYENV=window.PLOTLYENV || {};window.PLOTLYENV.BASE_URL=\"https://plot.ly\";Plotly.newPlot(\"c37cbe95-0353-4f96-8ff4-100aaaa8c537\", [{\"marker\": {\"color\": \"red\", \"size\": 12}, \"mode\": \"markers\", \"name\": \"MeanC\", \"x\": [\"2012-12-21\", \"2012-12-29\", \"2012-12-31\", \"2013-01-05\", \"2013-01-25\", \"2013-01-31\", \"2013-02-01\", \"2013-02-02\", \"2013-02-03\", \"2013-02-04\", \"2013-02-27\", \"2013-03-03\", \"2013-03-06\"], \"y\": [-3.333333333333333, -2.2222222222222223, -0.5555555555555556, -4.444444444444445, -3.888888888888889, -6.111111111111111, -11.666666666666666, -5.555555555555555, -7.222222222222222, -3.333333333333333, 2.2222222222222223, -2.2222222222222223, -0.5555555555555556], \"type\": \"scatter\", \"uid\": \"d1b024af-9de3-4ec9-a1a2-fe86c06dd42b\"}, {\"marker\": {\"color\": \"blue\", \"size\": 12}, \"mode\": \"markers\", \"name\": \"MeanH\", \"x\": [\"2012-12-21\", \"2012-12-29\", \"2012-12-31\", \"2013-01-05\", \"2013-01-25\", \"2013-01-31\", \"2013-02-01\", \"2013-02-02\", \"2013-02-03\", \"2013-02-04\", \"2013-02-27\", \"2013-03-03\", \"2013-03-06\"], \"y\": [74, 80, 78, 70, 57, 67, 65, 71, 80, 72, 87, 63, 85], \"type\": \"scatter\", \"uid\": \"3da1bca6-6d8c-41f0-ab2a-31d720977d86\"}], {\"title\": {\"text\": \"Snowing at San Francisco\"}, \"xaxis\": {\"title\": {\"text\": \"Days\"}}, \"yaxis\": {\"title\": {\"text\": \"MeanVariable\"}}}, {\"showLink\": false, \"linkText\": \"Export to plot.ly\", \"plotlyServerURL\": \"https://plot.ly\"})});</script><script type=\"text/javascript\">window.addEventListener(\"resize\", function(){window._Plotly.Plots.resize(document.getElementById(\"c37cbe95-0353-4f96-8ff4-100aaaa8c537\"));});</script>"
      ]
     },
     "metadata": {},
     "output_type": "display_data"
    }
   ],
   "source": [
    "import plotly\n",
    "import plotly.plotly as py\n",
    "import plotly.graph_objs as go\n",
    "import plotly.offline as offline\n",
    "\n",
    "plotly.offline.init_notebook_mode(connected=True)\n",
    "\n",
    "\n",
    "trace1 = {\"x\": dfw4['EDT'], \n",
    "          \"y\": dfw4['Mean TemperatureC'], \n",
    "          \"marker\": {\"color\": \"red\", \"size\": 12}, \n",
    "          \"mode\": \"markers\", \n",
    "          \"name\": \"MeanC\", \n",
    "          \"type\": \"scatter\"\n",
    "}\n",
    "\n",
    "trace2 = {\"x\": dfw4['EDT'], \n",
    "          \"y\": dfw4[' Mean Humidity'], \n",
    "          \"marker\": {\"color\": \"blue\", \"size\": 12}, \n",
    "          \"mode\": \"markers\", \n",
    "          \"name\": \"MeanH\", \n",
    "          \"type\": \"scatter\", \n",
    "}\n",
    "\n",
    "data = [trace1, trace2]\n",
    "layout = {\"title\": \"Snowing at San Francisco\", \n",
    "          \"xaxis\": {\"title\": \"Days\", }, \n",
    "          \"yaxis\": {\"title\": \"MeanVariable\"}}\n",
    "\n",
    "fig = go.Figure(data=data, layout=layout)\n",
    "offline.iplot(fig, filename='basicplotly_try2')"
   ]
  },
  {
   "cell_type": "code",
   "execution_count": null,
   "metadata": {},
   "outputs": [],
   "source": [
    "#Siguiente objetivo aplicar modelos de regresion lineal para estimar temperatura media y humedad media en dias \n",
    "#de nieve con viento sur y este segun epoca del año"
   ]
  }
 ],
 "metadata": {
  "kernelspec": {
   "display_name": "Python 3",
   "language": "python",
   "name": "python3"
  },
  "language_info": {
   "codemirror_mode": {
    "name": "ipython",
    "version": 3
   },
   "file_extension": ".py",
   "mimetype": "text/x-python",
   "name": "python",
   "nbconvert_exporter": "python",
   "pygments_lexer": "ipython3",
   "version": "3.6.5"
  }
 },
 "nbformat": 4,
 "nbformat_minor": 2
}
