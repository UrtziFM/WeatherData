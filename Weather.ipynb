{
 "cells": [
  {
   "cell_type": "code",
   "execution_count": 1,
   "metadata": {},
   "outputs": [],
   "source": [
    "weather = '/home/vant/Escritorio/MasterDataScience/Clases/Python/weather_year.csv'"
   ]
  },
  {
   "cell_type": "code",
   "execution_count": 3,
   "metadata": {},
   "outputs": [
    {
     "name": "stdout",
     "output_type": "stream",
     "text": [
      "367\n",
      "CPU times: user 848 µs, sys: 6.52 ms, total: 7.37 ms\n",
      "Wall time: 107 ms\n"
     ]
    }
   ],
   "source": [
    "%%time\n",
    "\n",
    "!cat {weather} |wc -l"
   ]
  },
  {
   "cell_type": "code",
   "execution_count": 4,
   "metadata": {},
   "outputs": [
    {
     "name": "stderr",
     "output_type": "stream",
     "text": [
      "/home/vant/anaconda3/lib/python3.6/importlib/_bootstrap.py:219: RuntimeWarning: numpy.dtype size changed, may indicate binary incompatibility. Expected 96, got 88\n",
      "  return f(*args, **kwds)\n"
     ]
    }
   ],
   "source": [
    "import pandas as pd\n",
    "import matplotlib.pyplot as plt\n",
    "%matplotlib inline"
   ]
  },
  {
   "cell_type": "code",
   "execution_count": 9,
   "metadata": {},
   "outputs": [
    {
     "data": {
      "text/html": [
       "<div>\n",
       "<style scoped>\n",
       "    .dataframe tbody tr th:only-of-type {\n",
       "        vertical-align: middle;\n",
       "    }\n",
       "\n",
       "    .dataframe tbody tr th {\n",
       "        vertical-align: top;\n",
       "    }\n",
       "\n",
       "    .dataframe thead th {\n",
       "        text-align: right;\n",
       "    }\n",
       "</style>\n",
       "<table border=\"1\" class=\"dataframe\">\n",
       "  <thead>\n",
       "    <tr style=\"text-align: right;\">\n",
       "      <th></th>\n",
       "      <th>EDT</th>\n",
       "      <th>Max TemperatureF</th>\n",
       "      <th>Mean TemperatureF</th>\n",
       "      <th>Min TemperatureF</th>\n",
       "      <th>Max Dew PointF</th>\n",
       "      <th>MeanDew PointF</th>\n",
       "      <th>Min DewpointF</th>\n",
       "      <th>Max Humidity</th>\n",
       "      <th>Mean Humidity</th>\n",
       "      <th>Min Humidity</th>\n",
       "      <th>Max Sea Level PressureIn</th>\n",
       "      <th>Mean Sea Level PressureIn</th>\n",
       "      <th>Min Sea Level PressureIn</th>\n",
       "      <th>Max VisibilityMiles</th>\n",
       "      <th>Mean VisibilityMiles</th>\n",
       "      <th>Min VisibilityMiles</th>\n",
       "      <th>Max Wind SpeedMPH</th>\n",
       "      <th>Mean Wind SpeedMPH</th>\n",
       "      <th>Max Gust SpeedMPH</th>\n",
       "      <th>PrecipitationIn</th>\n",
       "      <th>CloudCover</th>\n",
       "      <th>Events</th>\n",
       "      <th>WindDirDegrees</th>\n",
       "    </tr>\n",
       "  </thead>\n",
       "  <tbody>\n",
       "    <tr>\n",
       "      <th>0</th>\n",
       "      <td>2012-3-10</td>\n",
       "      <td>56</td>\n",
       "      <td>40</td>\n",
       "      <td>24</td>\n",
       "      <td>24</td>\n",
       "      <td>20</td>\n",
       "      <td>16</td>\n",
       "      <td>74</td>\n",
       "      <td>50</td>\n",
       "      <td>26</td>\n",
       "      <td>30.53</td>\n",
       "      <td>30.45</td>\n",
       "      <td>30.34</td>\n",
       "      <td>10</td>\n",
       "      <td>10</td>\n",
       "      <td>10</td>\n",
       "      <td>13</td>\n",
       "      <td>6</td>\n",
       "      <td>17.0</td>\n",
       "      <td>0.00</td>\n",
       "      <td>0</td>\n",
       "      <td>NaN</td>\n",
       "      <td>138</td>\n",
       "    </tr>\n",
       "    <tr>\n",
       "      <th>1</th>\n",
       "      <td>2012-3-11</td>\n",
       "      <td>67</td>\n",
       "      <td>49</td>\n",
       "      <td>30</td>\n",
       "      <td>43</td>\n",
       "      <td>31</td>\n",
       "      <td>24</td>\n",
       "      <td>78</td>\n",
       "      <td>53</td>\n",
       "      <td>28</td>\n",
       "      <td>30.37</td>\n",
       "      <td>30.27</td>\n",
       "      <td>30.13</td>\n",
       "      <td>10</td>\n",
       "      <td>10</td>\n",
       "      <td>10</td>\n",
       "      <td>22</td>\n",
       "      <td>7</td>\n",
       "      <td>32.0</td>\n",
       "      <td>T</td>\n",
       "      <td>1</td>\n",
       "      <td>Rain</td>\n",
       "      <td>163</td>\n",
       "    </tr>\n",
       "    <tr>\n",
       "      <th>2</th>\n",
       "      <td>2012-3-12</td>\n",
       "      <td>71</td>\n",
       "      <td>62</td>\n",
       "      <td>53</td>\n",
       "      <td>59</td>\n",
       "      <td>55</td>\n",
       "      <td>43</td>\n",
       "      <td>90</td>\n",
       "      <td>76</td>\n",
       "      <td>61</td>\n",
       "      <td>30.13</td>\n",
       "      <td>29.99</td>\n",
       "      <td>29.88</td>\n",
       "      <td>10</td>\n",
       "      <td>10</td>\n",
       "      <td>6</td>\n",
       "      <td>24</td>\n",
       "      <td>14</td>\n",
       "      <td>36.0</td>\n",
       "      <td>0.03</td>\n",
       "      <td>6</td>\n",
       "      <td>Rain</td>\n",
       "      <td>190</td>\n",
       "    </tr>\n",
       "    <tr>\n",
       "      <th>3</th>\n",
       "      <td>2012-3-13</td>\n",
       "      <td>76</td>\n",
       "      <td>63</td>\n",
       "      <td>50</td>\n",
       "      <td>57</td>\n",
       "      <td>53</td>\n",
       "      <td>47</td>\n",
       "      <td>93</td>\n",
       "      <td>66</td>\n",
       "      <td>38</td>\n",
       "      <td>30.12</td>\n",
       "      <td>30.06</td>\n",
       "      <td>29.97</td>\n",
       "      <td>10</td>\n",
       "      <td>10</td>\n",
       "      <td>4</td>\n",
       "      <td>16</td>\n",
       "      <td>5</td>\n",
       "      <td>24.0</td>\n",
       "      <td>0.00</td>\n",
       "      <td>0</td>\n",
       "      <td>NaN</td>\n",
       "      <td>242</td>\n",
       "    </tr>\n",
       "    <tr>\n",
       "      <th>4</th>\n",
       "      <td>2012-3-14</td>\n",
       "      <td>80</td>\n",
       "      <td>62</td>\n",
       "      <td>44</td>\n",
       "      <td>58</td>\n",
       "      <td>52</td>\n",
       "      <td>43</td>\n",
       "      <td>93</td>\n",
       "      <td>68</td>\n",
       "      <td>42</td>\n",
       "      <td>30.15</td>\n",
       "      <td>30.10</td>\n",
       "      <td>30.04</td>\n",
       "      <td>10</td>\n",
       "      <td>10</td>\n",
       "      <td>10</td>\n",
       "      <td>16</td>\n",
       "      <td>6</td>\n",
       "      <td>22.0</td>\n",
       "      <td>0.00</td>\n",
       "      <td>0</td>\n",
       "      <td>NaN</td>\n",
       "      <td>202</td>\n",
       "    </tr>\n",
       "  </tbody>\n",
       "</table>\n",
       "</div>"
      ],
      "text/plain": [
       "         EDT  Max TemperatureF  Mean TemperatureF  Min TemperatureF  \\\n",
       "0  2012-3-10                56                 40                24   \n",
       "1  2012-3-11                67                 49                30   \n",
       "2  2012-3-12                71                 62                53   \n",
       "3  2012-3-13                76                 63                50   \n",
       "4  2012-3-14                80                 62                44   \n",
       "\n",
       "   Max Dew PointF  MeanDew PointF  Min DewpointF  Max Humidity  \\\n",
       "0              24              20             16            74   \n",
       "1              43              31             24            78   \n",
       "2              59              55             43            90   \n",
       "3              57              53             47            93   \n",
       "4              58              52             43            93   \n",
       "\n",
       "    Mean Humidity   Min Humidity   Max Sea Level PressureIn  \\\n",
       "0              50             26                      30.53   \n",
       "1              53             28                      30.37   \n",
       "2              76             61                      30.13   \n",
       "3              66             38                      30.12   \n",
       "4              68             42                      30.15   \n",
       "\n",
       "    Mean Sea Level PressureIn   Min Sea Level PressureIn  \\\n",
       "0                       30.45                      30.34   \n",
       "1                       30.27                      30.13   \n",
       "2                       29.99                      29.88   \n",
       "3                       30.06                      29.97   \n",
       "4                       30.10                      30.04   \n",
       "\n",
       "    Max VisibilityMiles   Mean VisibilityMiles   Min VisibilityMiles  \\\n",
       "0                    10                     10                    10   \n",
       "1                    10                     10                    10   \n",
       "2                    10                     10                     6   \n",
       "3                    10                     10                     4   \n",
       "4                    10                     10                    10   \n",
       "\n",
       "    Max Wind SpeedMPH   Mean Wind SpeedMPH   Max Gust SpeedMPH  \\\n",
       "0                  13                    6                17.0   \n",
       "1                  22                    7                32.0   \n",
       "2                  24                   14                36.0   \n",
       "3                  16                    5                24.0   \n",
       "4                  16                    6                22.0   \n",
       "\n",
       "  PrecipitationIn   CloudCover  Events   WindDirDegrees  \n",
       "0            0.00            0     NaN              138  \n",
       "1               T            1    Rain              163  \n",
       "2            0.03            6    Rain              190  \n",
       "3            0.00            0     NaN              242  \n",
       "4            0.00            0     NaN              202  "
      ]
     },
     "execution_count": 9,
     "metadata": {},
     "output_type": "execute_result"
    }
   ],
   "source": [
    "pd.options.display.max_columns=None\n",
    "df = pd.read_csv(weather)\n",
    "df.head()"
   ]
  },
  {
   "cell_type": "code",
   "execution_count": 10,
   "metadata": {},
   "outputs": [
    {
     "data": {
      "text/plain": [
       "(366, 23)"
      ]
     },
     "execution_count": 10,
     "metadata": {},
     "output_type": "execute_result"
    }
   ],
   "source": [
    "df.shape"
   ]
  },
  {
   "cell_type": "code",
   "execution_count": 11,
   "metadata": {},
   "outputs": [
    {
     "data": {
      "text/plain": [
       "EDT                           366\n",
       "Max TemperatureF              366\n",
       "Mean TemperatureF             366\n",
       "Min TemperatureF              366\n",
       "Max Dew PointF                366\n",
       "MeanDew PointF                366\n",
       "Min DewpointF                 366\n",
       "Max Humidity                  366\n",
       " Mean Humidity                366\n",
       " Min Humidity                 366\n",
       " Max Sea Level PressureIn     366\n",
       " Mean Sea Level PressureIn    366\n",
       " Min Sea Level PressureIn     366\n",
       " Max VisibilityMiles          366\n",
       " Mean VisibilityMiles         366\n",
       " Min VisibilityMiles          366\n",
       " Max Wind SpeedMPH            366\n",
       " Mean Wind SpeedMPH           366\n",
       " Max Gust SpeedMPH            365\n",
       "PrecipitationIn               366\n",
       " CloudCover                   366\n",
       " Events                       162\n",
       " WindDirDegrees               366\n",
       "dtype: int64"
      ]
     },
     "execution_count": 11,
     "metadata": {},
     "output_type": "execute_result"
    }
   ],
   "source": [
    "df.count()"
   ]
  },
  {
   "cell_type": "code",
   "execution_count": 12,
   "metadata": {},
   "outputs": [
    {
     "data": {
      "text/plain": [
       "EDT                            object\n",
       "Max TemperatureF                int64\n",
       "Mean TemperatureF               int64\n",
       "Min TemperatureF                int64\n",
       "Max Dew PointF                  int64\n",
       "MeanDew PointF                  int64\n",
       "Min DewpointF                   int64\n",
       "Max Humidity                    int64\n",
       " Mean Humidity                  int64\n",
       " Min Humidity                   int64\n",
       " Max Sea Level PressureIn     float64\n",
       " Mean Sea Level PressureIn    float64\n",
       " Min Sea Level PressureIn     float64\n",
       " Max VisibilityMiles            int64\n",
       " Mean VisibilityMiles           int64\n",
       " Min VisibilityMiles            int64\n",
       " Max Wind SpeedMPH              int64\n",
       " Mean Wind SpeedMPH             int64\n",
       " Max Gust SpeedMPH            float64\n",
       "PrecipitationIn                object\n",
       " CloudCover                     int64\n",
       " Events                        object\n",
       " WindDirDegrees                 int64\n",
       "dtype: object"
      ]
     },
     "execution_count": 12,
     "metadata": {},
     "output_type": "execute_result"
    }
   ],
   "source": [
    "df.dtypes"
   ]
  },
  {
   "cell_type": "code",
   "execution_count": 14,
   "metadata": {},
   "outputs": [
    {
     "data": {
      "text/html": [
       "<div>\n",
       "<style scoped>\n",
       "    .dataframe tbody tr th:only-of-type {\n",
       "        vertical-align: middle;\n",
       "    }\n",
       "\n",
       "    .dataframe tbody tr th {\n",
       "        vertical-align: top;\n",
       "    }\n",
       "\n",
       "    .dataframe thead th {\n",
       "        text-align: right;\n",
       "    }\n",
       "</style>\n",
       "<table border=\"1\" class=\"dataframe\">\n",
       "  <thead>\n",
       "    <tr style=\"text-align: right;\">\n",
       "      <th></th>\n",
       "      <th>EDT</th>\n",
       "      <th>Max TemperatureF</th>\n",
       "      <th>Max Humidity</th>\n",
       "      <th>Max Wind SpeedMPH</th>\n",
       "      <th>Max Sea Level PressureIn</th>\n",
       "    </tr>\n",
       "  </thead>\n",
       "  <tbody>\n",
       "    <tr>\n",
       "      <th>0</th>\n",
       "      <td>2012-3-10</td>\n",
       "      <td>56</td>\n",
       "      <td>74</td>\n",
       "      <td>13</td>\n",
       "      <td>30.53</td>\n",
       "    </tr>\n",
       "    <tr>\n",
       "      <th>1</th>\n",
       "      <td>2012-3-11</td>\n",
       "      <td>67</td>\n",
       "      <td>78</td>\n",
       "      <td>22</td>\n",
       "      <td>30.37</td>\n",
       "    </tr>\n",
       "    <tr>\n",
       "      <th>2</th>\n",
       "      <td>2012-3-12</td>\n",
       "      <td>71</td>\n",
       "      <td>90</td>\n",
       "      <td>24</td>\n",
       "      <td>30.13</td>\n",
       "    </tr>\n",
       "    <tr>\n",
       "      <th>3</th>\n",
       "      <td>2012-3-13</td>\n",
       "      <td>76</td>\n",
       "      <td>93</td>\n",
       "      <td>16</td>\n",
       "      <td>30.12</td>\n",
       "    </tr>\n",
       "    <tr>\n",
       "      <th>4</th>\n",
       "      <td>2012-3-14</td>\n",
       "      <td>80</td>\n",
       "      <td>93</td>\n",
       "      <td>16</td>\n",
       "      <td>30.15</td>\n",
       "    </tr>\n",
       "  </tbody>\n",
       "</table>\n",
       "</div>"
      ],
      "text/plain": [
       "         EDT  Max TemperatureF  Max Humidity   Max Wind SpeedMPH  \\\n",
       "0  2012-3-10                56            74                  13   \n",
       "1  2012-3-11                67            78                  22   \n",
       "2  2012-3-12                71            90                  24   \n",
       "3  2012-3-13                76            93                  16   \n",
       "4  2012-3-14                80            93                  16   \n",
       "\n",
       "    Max Sea Level PressureIn  \n",
       "0                      30.53  \n",
       "1                      30.37  \n",
       "2                      30.13  \n",
       "3                      30.12  \n",
       "4                      30.15  "
      ]
     },
     "execution_count": 14,
     "metadata": {},
     "output_type": "execute_result"
    }
   ],
   "source": [
    "df1 = df[['EDT','Max TemperatureF', 'Max Humidity', ' Max Wind SpeedMPH',' Max Sea Level PressureIn']]\n",
    "df1.head()"
   ]
  },
  {
   "cell_type": "code",
   "execution_count": 16,
   "metadata": {},
   "outputs": [
    {
     "data": {
      "image/png": "[encoded data removed]",
      "text/plain": [
       "<Figure size 432x288 with 1 Axes>"
      ]
     },
     "metadata": {},
     "output_type": "display_data"
    }
   ],
   "source": [
    "df1.plot();"
   ]
  },
  {
   "cell_type": "code",
   "execution_count": null,
   "metadata": {},
   "outputs": [],
   "source": []
  }
 ],
 "metadata": {
  "kernelspec": {
   "display_name": "Python 3",
   "language": "python",
   "name": "python3"
  },
  "language_info": {
   "codemirror_mode": {
    "name": "ipython",
    "version": 3
   },
   "file_extension": ".py",
   "mimetype": "text/x-python",
   "name": "python",
   "nbconvert_exporter": "python",
   "pygments_lexer": "ipython3",
   "version": "3.6.5"
  }
 },
 "nbformat": 4,
 "nbformat_minor": 2
}
