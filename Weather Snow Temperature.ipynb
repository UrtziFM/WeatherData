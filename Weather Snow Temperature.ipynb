{
 "cells": [
  {
   "cell_type": "code",
   "execution_count": 1,
   "metadata": {},
   "outputs": [],
   "source": [
    "weather = '/home/vant/Escritorio/MasterDataScience/Clases/Python/weather_year.csv'"
   ]
  },
  {
   "cell_type": "code",
   "execution_count": 2,
   "metadata": {},
   "outputs": [
    {
     "name": "stdout",
     "output_type": "stream",
     "text": [
      "367\n",
      "CPU times: user 7.18 ms, sys: 135 µs, total: 7.31 ms\n",
      "Wall time: 109 ms\n"
     ]
    }
   ],
   "source": [
    "%%time\n",
    "!cat {weather} |wc -l"
   ]
  },
  {
   "cell_type": "code",
   "execution_count": 3,
   "metadata": {},
   "outputs": [],
   "source": [
    "import pandas as pd\n",
    "import matplotlib.pyplot as plt\n",
    "from datetime import datetime\n",
    "%matplotlib inline"
   ]
  },
  {
   "cell_type": "code",
   "execution_count": 4,
   "metadata": {},
   "outputs": [
    {
     "data": {
      "text/html": [
       "<div>\n",
       "<style scoped>\n",
       "    .dataframe tbody tr th:only-of-type {\n",
       "        vertical-align: middle;\n",
       "    }\n",
       "\n",
       "    .dataframe tbody tr th {\n",
       "        vertical-align: top;\n",
       "    }\n",
       "\n",
       "    .dataframe thead th {\n",
       "        text-align: right;\n",
       "    }\n",
       "</style>\n",
       "<table border=\"1\" class=\"dataframe\">\n",
       "  <thead>\n",
       "    <tr style=\"text-align: right;\">\n",
       "      <th></th>\n",
       "      <th>EDT</th>\n",
       "      <th>Max TemperatureF</th>\n",
       "      <th>Mean TemperatureF</th>\n",
       "      <th>Min TemperatureF</th>\n",
       "      <th>Max Dew PointF</th>\n",
       "      <th>MeanDew PointF</th>\n",
       "      <th>Min DewpointF</th>\n",
       "      <th>Max Humidity</th>\n",
       "      <th>Mean Humidity</th>\n",
       "      <th>Min Humidity</th>\n",
       "      <th>Max Sea Level PressureIn</th>\n",
       "      <th>Mean Sea Level PressureIn</th>\n",
       "      <th>Min Sea Level PressureIn</th>\n",
       "      <th>Max VisibilityMiles</th>\n",
       "      <th>Mean VisibilityMiles</th>\n",
       "      <th>Min VisibilityMiles</th>\n",
       "      <th>Max Wind SpeedMPH</th>\n",
       "      <th>Mean Wind SpeedMPH</th>\n",
       "      <th>Max Gust SpeedMPH</th>\n",
       "      <th>PrecipitationIn</th>\n",
       "      <th>CloudCover</th>\n",
       "      <th>Events</th>\n",
       "      <th>WindDirDegrees</th>\n",
       "    </tr>\n",
       "  </thead>\n",
       "  <tbody>\n",
       "    <tr>\n",
       "      <th>0</th>\n",
       "      <td>2012-3-10</td>\n",
       "      <td>56</td>\n",
       "      <td>40</td>\n",
       "      <td>24</td>\n",
       "      <td>24</td>\n",
       "      <td>20</td>\n",
       "      <td>16</td>\n",
       "      <td>74</td>\n",
       "      <td>50</td>\n",
       "      <td>26</td>\n",
       "      <td>30.53</td>\n",
       "      <td>30.45</td>\n",
       "      <td>30.34</td>\n",
       "      <td>10</td>\n",
       "      <td>10</td>\n",
       "      <td>10</td>\n",
       "      <td>13</td>\n",
       "      <td>6</td>\n",
       "      <td>17.0</td>\n",
       "      <td>0.00</td>\n",
       "      <td>0</td>\n",
       "      <td>NaN</td>\n",
       "      <td>138</td>\n",
       "    </tr>\n",
       "    <tr>\n",
       "      <th>1</th>\n",
       "      <td>2012-3-11</td>\n",
       "      <td>67</td>\n",
       "      <td>49</td>\n",
       "      <td>30</td>\n",
       "      <td>43</td>\n",
       "      <td>31</td>\n",
       "      <td>24</td>\n",
       "      <td>78</td>\n",
       "      <td>53</td>\n",
       "      <td>28</td>\n",
       "      <td>30.37</td>\n",
       "      <td>30.27</td>\n",
       "      <td>30.13</td>\n",
       "      <td>10</td>\n",
       "      <td>10</td>\n",
       "      <td>10</td>\n",
       "      <td>22</td>\n",
       "      <td>7</td>\n",
       "      <td>32.0</td>\n",
       "      <td>T</td>\n",
       "      <td>1</td>\n",
       "      <td>Rain</td>\n",
       "      <td>163</td>\n",
       "    </tr>\n",
       "    <tr>\n",
       "      <th>2</th>\n",
       "      <td>2012-3-12</td>\n",
       "      <td>71</td>\n",
       "      <td>62</td>\n",
       "      <td>53</td>\n",
       "      <td>59</td>\n",
       "      <td>55</td>\n",
       "      <td>43</td>\n",
       "      <td>90</td>\n",
       "      <td>76</td>\n",
       "      <td>61</td>\n",
       "      <td>30.13</td>\n",
       "      <td>29.99</td>\n",
       "      <td>29.88</td>\n",
       "      <td>10</td>\n",
       "      <td>10</td>\n",
       "      <td>6</td>\n",
       "      <td>24</td>\n",
       "      <td>14</td>\n",
       "      <td>36.0</td>\n",
       "      <td>0.03</td>\n",
       "      <td>6</td>\n",
       "      <td>Rain</td>\n",
       "      <td>190</td>\n",
       "    </tr>\n",
       "    <tr>\n",
       "      <th>3</th>\n",
       "      <td>2012-3-13</td>\n",
       "      <td>76</td>\n",
       "      <td>63</td>\n",
       "      <td>50</td>\n",
       "      <td>57</td>\n",
       "      <td>53</td>\n",
       "      <td>47</td>\n",
       "      <td>93</td>\n",
       "      <td>66</td>\n",
       "      <td>38</td>\n",
       "      <td>30.12</td>\n",
       "      <td>30.06</td>\n",
       "      <td>29.97</td>\n",
       "      <td>10</td>\n",
       "      <td>10</td>\n",
       "      <td>4</td>\n",
       "      <td>16</td>\n",
       "      <td>5</td>\n",
       "      <td>24.0</td>\n",
       "      <td>0.00</td>\n",
       "      <td>0</td>\n",
       "      <td>NaN</td>\n",
       "      <td>242</td>\n",
       "    </tr>\n",
       "    <tr>\n",
       "      <th>4</th>\n",
       "      <td>2012-3-14</td>\n",
       "      <td>80</td>\n",
       "      <td>62</td>\n",
       "      <td>44</td>\n",
       "      <td>58</td>\n",
       "      <td>52</td>\n",
       "      <td>43</td>\n",
       "      <td>93</td>\n",
       "      <td>68</td>\n",
       "      <td>42</td>\n",
       "      <td>30.15</td>\n",
       "      <td>30.10</td>\n",
       "      <td>30.04</td>\n",
       "      <td>10</td>\n",
       "      <td>10</td>\n",
       "      <td>10</td>\n",
       "      <td>16</td>\n",
       "      <td>6</td>\n",
       "      <td>22.0</td>\n",
       "      <td>0.00</td>\n",
       "      <td>0</td>\n",
       "      <td>NaN</td>\n",
       "      <td>202</td>\n",
       "    </tr>\n",
       "  </tbody>\n",
       "</table>\n",
       "</div>"
      ],
      "text/plain": [
       "         EDT  Max TemperatureF  Mean TemperatureF  Min TemperatureF  \\\n",
       "0  2012-3-10                56                 40                24   \n",
       "1  2012-3-11                67                 49                30   \n",
       "2  2012-3-12                71                 62                53   \n",
       "3  2012-3-13                76                 63                50   \n",
       "4  2012-3-14                80                 62                44   \n",
       "\n",
       "   Max Dew PointF  MeanDew PointF  Min DewpointF  Max Humidity  \\\n",
       "0              24              20             16            74   \n",
       "1              43              31             24            78   \n",
       "2              59              55             43            90   \n",
       "3              57              53             47            93   \n",
       "4              58              52             43            93   \n",
       "\n",
       "    Mean Humidity   Min Humidity   Max Sea Level PressureIn  \\\n",
       "0              50             26                      30.53   \n",
       "1              53             28                      30.37   \n",
       "2              76             61                      30.13   \n",
       "3              66             38                      30.12   \n",
       "4              68             42                      30.15   \n",
       "\n",
       "    Mean Sea Level PressureIn   Min Sea Level PressureIn  \\\n",
       "0                       30.45                      30.34   \n",
       "1                       30.27                      30.13   \n",
       "2                       29.99                      29.88   \n",
       "3                       30.06                      29.97   \n",
       "4                       30.10                      30.04   \n",
       "\n",
       "    Max VisibilityMiles   Mean VisibilityMiles   Min VisibilityMiles  \\\n",
       "0                    10                     10                    10   \n",
       "1                    10                     10                    10   \n",
       "2                    10                     10                     6   \n",
       "3                    10                     10                     4   \n",
       "4                    10                     10                    10   \n",
       "\n",
       "    Max Wind SpeedMPH   Mean Wind SpeedMPH   Max Gust SpeedMPH  \\\n",
       "0                  13                    6                17.0   \n",
       "1                  22                    7                32.0   \n",
       "2                  24                   14                36.0   \n",
       "3                  16                    5                24.0   \n",
       "4                  16                    6                22.0   \n",
       "\n",
       "  PrecipitationIn   CloudCover  Events   WindDirDegrees  \n",
       "0            0.00            0     NaN              138  \n",
       "1               T            1    Rain              163  \n",
       "2            0.03            6    Rain              190  \n",
       "3            0.00            0     NaN              242  \n",
       "4            0.00            0     NaN              202  "
      ]
     },
     "execution_count": 4,
     "metadata": {},
     "output_type": "execute_result"
    }
   ],
   "source": [
    "pd.options.display.max_columns=None\n",
    "dfw = pd.read_csv (weather)\n",
    "dfw.head()"
   ]
  },
  {
   "cell_type": "code",
   "execution_count": 5,
   "metadata": {},
   "outputs": [],
   "source": [
    "# dfw.shape # dfw.count() #dfw.dtypes #dfw.describe"
   ]
  },
  {
   "cell_type": "code",
   "execution_count": 6,
   "metadata": {},
   "outputs": [
    {
     "data": {
      "text/html": [
       "<div>\n",
       "<style scoped>\n",
       "    .dataframe tbody tr th:only-of-type {\n",
       "        vertical-align: middle;\n",
       "    }\n",
       "\n",
       "    .dataframe tbody tr th {\n",
       "        vertical-align: top;\n",
       "    }\n",
       "\n",
       "    .dataframe thead th {\n",
       "        text-align: right;\n",
       "    }\n",
       "</style>\n",
       "<table border=\"1\" class=\"dataframe\">\n",
       "  <thead>\n",
       "    <tr style=\"text-align: right;\">\n",
       "      <th></th>\n",
       "      <th>EDT</th>\n",
       "      <th>Mean TemperatureF</th>\n",
       "      <th>Events</th>\n",
       "    </tr>\n",
       "  </thead>\n",
       "  <tbody>\n",
       "    <tr>\n",
       "      <th>0</th>\n",
       "      <td>2012-3-10</td>\n",
       "      <td>40</td>\n",
       "      <td>NaN</td>\n",
       "    </tr>\n",
       "    <tr>\n",
       "      <th>1</th>\n",
       "      <td>2012-3-11</td>\n",
       "      <td>49</td>\n",
       "      <td>Rain</td>\n",
       "    </tr>\n",
       "    <tr>\n",
       "      <th>2</th>\n",
       "      <td>2012-3-12</td>\n",
       "      <td>62</td>\n",
       "      <td>Rain</td>\n",
       "    </tr>\n",
       "    <tr>\n",
       "      <th>3</th>\n",
       "      <td>2012-3-13</td>\n",
       "      <td>63</td>\n",
       "      <td>NaN</td>\n",
       "    </tr>\n",
       "    <tr>\n",
       "      <th>4</th>\n",
       "      <td>2012-3-14</td>\n",
       "      <td>62</td>\n",
       "      <td>NaN</td>\n",
       "    </tr>\n",
       "  </tbody>\n",
       "</table>\n",
       "</div>"
      ],
      "text/plain": [
       "         EDT  Mean TemperatureF  Events\n",
       "0  2012-3-10                 40     NaN\n",
       "1  2012-3-11                 49    Rain\n",
       "2  2012-3-12                 62    Rain\n",
       "3  2012-3-13                 63     NaN\n",
       "4  2012-3-14                 62     NaN"
      ]
     },
     "execution_count": 6,
     "metadata": {},
     "output_type": "execute_result"
    }
   ],
   "source": [
    "dfw1 = dfw[['EDT', 'Mean TemperatureF', ' Events']]\n",
    "dfw1.head()"
   ]
  },
  {
   "cell_type": "code",
   "execution_count": 7,
   "metadata": {},
   "outputs": [
    {
     "data": {
      "text/plain": [
       "EDT                  object\n",
       "Mean TemperatureF     int64\n",
       " Events              object\n",
       "dtype: object"
      ]
     },
     "execution_count": 7,
     "metadata": {},
     "output_type": "execute_result"
    }
   ],
   "source": [
    "dfw1.dtypes"
   ]
  },
  {
   "cell_type": "code",
   "execution_count": 9,
   "metadata": {},
   "outputs": [
    {
     "data": {
      "text/html": [
       "<div>\n",
       "<style scoped>\n",
       "    .dataframe tbody tr th:only-of-type {\n",
       "        vertical-align: middle;\n",
       "    }\n",
       "\n",
       "    .dataframe tbody tr th {\n",
       "        vertical-align: top;\n",
       "    }\n",
       "\n",
       "    .dataframe thead th {\n",
       "        text-align: right;\n",
       "    }\n",
       "</style>\n",
       "<table border=\"1\" class=\"dataframe\">\n",
       "  <thead>\n",
       "    <tr style=\"text-align: right;\">\n",
       "      <th></th>\n",
       "      <th>EDT</th>\n",
       "      <th>Mean TemperatureF</th>\n",
       "      <th>Events</th>\n",
       "    </tr>\n",
       "  </thead>\n",
       "  <tbody>\n",
       "    <tr>\n",
       "      <th>238</th>\n",
       "      <td>2012-11-3</td>\n",
       "      <td>38</td>\n",
       "      <td>Rain</td>\n",
       "    </tr>\n",
       "    <tr>\n",
       "      <th>239</th>\n",
       "      <td>2012-11-4</td>\n",
       "      <td>38</td>\n",
       "      <td>NaN</td>\n",
       "    </tr>\n",
       "    <tr>\n",
       "      <th>240</th>\n",
       "      <td>2012-11-5</td>\n",
       "      <td>37</td>\n",
       "      <td>NaN</td>\n",
       "    </tr>\n",
       "    <tr>\n",
       "      <th>241</th>\n",
       "      <td>2012-11-6</td>\n",
       "      <td>38</td>\n",
       "      <td>Rain</td>\n",
       "    </tr>\n",
       "    <tr>\n",
       "      <th>243</th>\n",
       "      <td>2012-11-8</td>\n",
       "      <td>38</td>\n",
       "      <td>Fog</td>\n",
       "    </tr>\n",
       "  </tbody>\n",
       "</table>\n",
       "</div>"
      ],
      "text/plain": [
       "           EDT  Mean TemperatureF  Events\n",
       "238  2012-11-3                 38    Rain\n",
       "239  2012-11-4                 38     NaN\n",
       "240  2012-11-5                 37     NaN\n",
       "241  2012-11-6                 38    Rain\n",
       "243  2012-11-8                 38     Fog"
      ]
     },
     "execution_count": 9,
     "metadata": {},
     "output_type": "execute_result"
    }
   ],
   "source": [
    "dfw2 = dfw1[dfw1['Mean TemperatureF'] < 40]\n",
    "dfw2.head()"
   ]
  },
  {
   "cell_type": "code",
   "execution_count": 10,
   "metadata": {},
   "outputs": [],
   "source": [
    "dfw3 = dfw2[dfw2[' Events'].isin(['Snow','Fog-Snow'])]"
   ]
  },
  {
   "cell_type": "code",
   "execution_count": 11,
   "metadata": {},
   "outputs": [
    {
     "data": {
      "text/html": [
       "<div>\n",
       "<style scoped>\n",
       "    .dataframe tbody tr th:only-of-type {\n",
       "        vertical-align: middle;\n",
       "    }\n",
       "\n",
       "    .dataframe tbody tr th {\n",
       "        vertical-align: top;\n",
       "    }\n",
       "\n",
       "    .dataframe thead th {\n",
       "        text-align: right;\n",
       "    }\n",
       "</style>\n",
       "<table border=\"1\" class=\"dataframe\">\n",
       "  <thead>\n",
       "    <tr style=\"text-align: right;\">\n",
       "      <th></th>\n",
       "      <th>EDT</th>\n",
       "      <th>Mean TemperatureF</th>\n",
       "      <th>Events</th>\n",
       "    </tr>\n",
       "  </thead>\n",
       "  <tbody>\n",
       "    <tr>\n",
       "      <th>286</th>\n",
       "      <td>2012-12-21</td>\n",
       "      <td>26</td>\n",
       "      <td>Fog-Snow</td>\n",
       "    </tr>\n",
       "    <tr>\n",
       "      <th>291</th>\n",
       "      <td>2012-12-26</td>\n",
       "      <td>31</td>\n",
       "      <td>Fog-Snow</td>\n",
       "    </tr>\n",
       "    <tr>\n",
       "      <th>293</th>\n",
       "      <td>2012-12-28</td>\n",
       "      <td>31</td>\n",
       "      <td>Snow</td>\n",
       "    </tr>\n",
       "    <tr>\n",
       "      <th>294</th>\n",
       "      <td>2012-12-29</td>\n",
       "      <td>28</td>\n",
       "      <td>Fog-Snow</td>\n",
       "    </tr>\n",
       "    <tr>\n",
       "      <th>296</th>\n",
       "      <td>2012-12-31</td>\n",
       "      <td>31</td>\n",
       "      <td>Fog-Snow</td>\n",
       "    </tr>\n",
       "    <tr>\n",
       "      <th>301</th>\n",
       "      <td>2013-1-5</td>\n",
       "      <td>24</td>\n",
       "      <td>Snow</td>\n",
       "    </tr>\n",
       "    <tr>\n",
       "      <th>320</th>\n",
       "      <td>2013-1-24</td>\n",
       "      <td>19</td>\n",
       "      <td>Snow</td>\n",
       "    </tr>\n",
       "    <tr>\n",
       "      <th>321</th>\n",
       "      <td>2013-1-25</td>\n",
       "      <td>25</td>\n",
       "      <td>Snow</td>\n",
       "    </tr>\n",
       "    <tr>\n",
       "      <th>327</th>\n",
       "      <td>2013-1-31</td>\n",
       "      <td>21</td>\n",
       "      <td>Fog-Snow</td>\n",
       "    </tr>\n",
       "    <tr>\n",
       "      <th>328</th>\n",
       "      <td>2013-2-1</td>\n",
       "      <td>11</td>\n",
       "      <td>Snow</td>\n",
       "    </tr>\n",
       "    <tr>\n",
       "      <th>329</th>\n",
       "      <td>2013-2-2</td>\n",
       "      <td>22</td>\n",
       "      <td>Snow</td>\n",
       "    </tr>\n",
       "    <tr>\n",
       "      <th>330</th>\n",
       "      <td>2013-2-3</td>\n",
       "      <td>19</td>\n",
       "      <td>Snow</td>\n",
       "    </tr>\n",
       "    <tr>\n",
       "      <th>331</th>\n",
       "      <td>2013-2-4</td>\n",
       "      <td>26</td>\n",
       "      <td>Snow</td>\n",
       "    </tr>\n",
       "    <tr>\n",
       "      <th>354</th>\n",
       "      <td>2013-2-27</td>\n",
       "      <td>36</td>\n",
       "      <td>Snow</td>\n",
       "    </tr>\n",
       "    <tr>\n",
       "      <th>356</th>\n",
       "      <td>2013-3-1</td>\n",
       "      <td>34</td>\n",
       "      <td>Snow</td>\n",
       "    </tr>\n",
       "    <tr>\n",
       "      <th>357</th>\n",
       "      <td>2013-3-2</td>\n",
       "      <td>30</td>\n",
       "      <td>Snow</td>\n",
       "    </tr>\n",
       "    <tr>\n",
       "      <th>358</th>\n",
       "      <td>2013-3-3</td>\n",
       "      <td>28</td>\n",
       "      <td>Snow</td>\n",
       "    </tr>\n",
       "    <tr>\n",
       "      <th>361</th>\n",
       "      <td>2013-3-6</td>\n",
       "      <td>31</td>\n",
       "      <td>Snow</td>\n",
       "    </tr>\n",
       "  </tbody>\n",
       "</table>\n",
       "</div>"
      ],
      "text/plain": [
       "            EDT  Mean TemperatureF    Events\n",
       "286  2012-12-21                 26  Fog-Snow\n",
       "291  2012-12-26                 31  Fog-Snow\n",
       "293  2012-12-28                 31      Snow\n",
       "294  2012-12-29                 28  Fog-Snow\n",
       "296  2012-12-31                 31  Fog-Snow\n",
       "301    2013-1-5                 24      Snow\n",
       "320   2013-1-24                 19      Snow\n",
       "321   2013-1-25                 25      Snow\n",
       "327   2013-1-31                 21  Fog-Snow\n",
       "328    2013-2-1                 11      Snow\n",
       "329    2013-2-2                 22      Snow\n",
       "330    2013-2-3                 19      Snow\n",
       "331    2013-2-4                 26      Snow\n",
       "354   2013-2-27                 36      Snow\n",
       "356    2013-3-1                 34      Snow\n",
       "357    2013-3-2                 30      Snow\n",
       "358    2013-3-3                 28      Snow\n",
       "361    2013-3-6                 31      Snow"
      ]
     },
     "execution_count": 11,
     "metadata": {},
     "output_type": "execute_result"
    }
   ],
   "source": [
    "dfw3"
   ]
  },
  {
   "cell_type": "code",
   "execution_count": 12,
   "metadata": {},
   "outputs": [
    {
     "data": {
      "image/png": "[encoded data removed]",
      "text/plain": [
       "<Figure size 432x288 with 1 Axes>"
      ]
     },
     "metadata": {},
     "output_type": "display_data"
    }
   ],
   "source": [
    "dfw3.plot();"
   ]
  },
  {
   "cell_type": "code",
   "execution_count": 13,
   "metadata": {},
   "outputs": [
    {
     "data": {
      "text/plain": [
       "473"
      ]
     },
     "execution_count": 13,
     "metadata": {},
     "output_type": "execute_result"
    }
   ],
   "source": [
    "dfw3['Mean TemperatureF'].sum()"
   ]
  },
  {
   "cell_type": "code",
   "execution_count": 14,
   "metadata": {},
   "outputs": [
    {
     "data": {
      "text/html": [
       "<div>\n",
       "<style scoped>\n",
       "    .dataframe tbody tr th:only-of-type {\n",
       "        vertical-align: middle;\n",
       "    }\n",
       "\n",
       "    .dataframe tbody tr th {\n",
       "        vertical-align: top;\n",
       "    }\n",
       "\n",
       "    .dataframe thead th {\n",
       "        text-align: right;\n",
       "    }\n",
       "</style>\n",
       "<table border=\"1\" class=\"dataframe\">\n",
       "  <thead>\n",
       "    <tr style=\"text-align: right;\">\n",
       "      <th></th>\n",
       "      <th>Mean TemperatureF</th>\n",
       "    </tr>\n",
       "  </thead>\n",
       "  <tbody>\n",
       "    <tr>\n",
       "      <th>count</th>\n",
       "      <td>18.000000</td>\n",
       "    </tr>\n",
       "    <tr>\n",
       "      <th>mean</th>\n",
       "      <td>26.277778</td>\n",
       "    </tr>\n",
       "    <tr>\n",
       "      <th>std</th>\n",
       "      <td>6.210101</td>\n",
       "    </tr>\n",
       "    <tr>\n",
       "      <th>min</th>\n",
       "      <td>11.000000</td>\n",
       "    </tr>\n",
       "    <tr>\n",
       "      <th>25%</th>\n",
       "      <td>22.500000</td>\n",
       "    </tr>\n",
       "    <tr>\n",
       "      <th>50%</th>\n",
       "      <td>27.000000</td>\n",
       "    </tr>\n",
       "    <tr>\n",
       "      <th>75%</th>\n",
       "      <td>31.000000</td>\n",
       "    </tr>\n",
       "    <tr>\n",
       "      <th>max</th>\n",
       "      <td>36.000000</td>\n",
       "    </tr>\n",
       "  </tbody>\n",
       "</table>\n",
       "</div>"
      ],
      "text/plain": [
       "       Mean TemperatureF\n",
       "count          18.000000\n",
       "mean           26.277778\n",
       "std             6.210101\n",
       "min            11.000000\n",
       "25%            22.500000\n",
       "50%            27.000000\n",
       "75%            31.000000\n",
       "max            36.000000"
      ]
     },
     "execution_count": 14,
     "metadata": {},
     "output_type": "execute_result"
    }
   ],
   "source": [
    "dfw3.describe()"
   ]
  },
  {
   "cell_type": "code",
   "execution_count": 15,
   "metadata": {},
   "outputs": [
    {
     "data": {
      "image/png": "[encoded data removed]",
      "text/plain": [
       "<Figure size 432x288 with 1 Axes>"
      ]
     },
     "metadata": {},
     "output_type": "display_data"
    }
   ],
   "source": [
    "dfw3.hist();"
   ]
  },
  {
   "cell_type": "code",
   "execution_count": 16,
   "metadata": {},
   "outputs": [
    {
     "name": "stderr",
     "output_type": "stream",
     "text": [
      "/home/vant/anaconda3/lib/python3.6/site-packages/matplotlib/axes/_axes.py:6462: UserWarning: The 'normed' kwarg is deprecated, and has been replaced by the 'density' kwarg.\n",
      "  warnings.warn(\"The 'normed' kwarg is deprecated, and has been \"\n"
     ]
    },
    {
     "data": {
      "image/png": "[encoded data removed]",
      "text/plain": [
       "<Figure size 432x288 with 1 Axes>"
      ]
     },
     "metadata": {},
     "output_type": "display_data"
    }
   ],
   "source": [
    "import seaborn as sns\n",
    "\n",
    "sns.distplot(dfw3['Mean TemperatureF']);"
   ]
  },
  {
   "cell_type": "code",
   "execution_count": 24,
   "metadata": {},
   "outputs": [
    {
     "data": {
      "text/html": [
       "<div>\n",
       "<style scoped>\n",
       "    .dataframe tbody tr th:only-of-type {\n",
       "        vertical-align: middle;\n",
       "    }\n",
       "\n",
       "    .dataframe tbody tr th {\n",
       "        vertical-align: top;\n",
       "    }\n",
       "\n",
       "    .dataframe thead th {\n",
       "        text-align: right;\n",
       "    }\n",
       "</style>\n",
       "<table border=\"1\" class=\"dataframe\">\n",
       "  <thead>\n",
       "    <tr style=\"text-align: right;\">\n",
       "      <th></th>\n",
       "      <th>EDT</th>\n",
       "      <th>Max TemperatureF</th>\n",
       "      <th>Mean TemperatureF</th>\n",
       "      <th>Min TemperatureF</th>\n",
       "      <th>Events</th>\n",
       "    </tr>\n",
       "  </thead>\n",
       "  <tbody>\n",
       "    <tr>\n",
       "      <th>286</th>\n",
       "      <td>2012-12-21</td>\n",
       "      <td>29</td>\n",
       "      <td>26</td>\n",
       "      <td>22</td>\n",
       "      <td>Fog-Snow</td>\n",
       "    </tr>\n",
       "    <tr>\n",
       "      <th>291</th>\n",
       "      <td>2012-12-26</td>\n",
       "      <td>33</td>\n",
       "      <td>31</td>\n",
       "      <td>29</td>\n",
       "      <td>Fog-Snow</td>\n",
       "    </tr>\n",
       "    <tr>\n",
       "      <th>293</th>\n",
       "      <td>2012-12-28</td>\n",
       "      <td>33</td>\n",
       "      <td>31</td>\n",
       "      <td>29</td>\n",
       "      <td>Snow</td>\n",
       "    </tr>\n",
       "    <tr>\n",
       "      <th>294</th>\n",
       "      <td>2012-12-29</td>\n",
       "      <td>32</td>\n",
       "      <td>28</td>\n",
       "      <td>23</td>\n",
       "      <td>Fog-Snow</td>\n",
       "    </tr>\n",
       "    <tr>\n",
       "      <th>296</th>\n",
       "      <td>2012-12-31</td>\n",
       "      <td>36</td>\n",
       "      <td>31</td>\n",
       "      <td>25</td>\n",
       "      <td>Fog-Snow</td>\n",
       "    </tr>\n",
       "    <tr>\n",
       "      <th>301</th>\n",
       "      <td>2013-1-5</td>\n",
       "      <td>39</td>\n",
       "      <td>24</td>\n",
       "      <td>9</td>\n",
       "      <td>Snow</td>\n",
       "    </tr>\n",
       "    <tr>\n",
       "      <th>320</th>\n",
       "      <td>2013-1-24</td>\n",
       "      <td>26</td>\n",
       "      <td>19</td>\n",
       "      <td>11</td>\n",
       "      <td>Snow</td>\n",
       "    </tr>\n",
       "    <tr>\n",
       "      <th>321</th>\n",
       "      <td>2013-1-25</td>\n",
       "      <td>30</td>\n",
       "      <td>25</td>\n",
       "      <td>20</td>\n",
       "      <td>Snow</td>\n",
       "    </tr>\n",
       "    <tr>\n",
       "      <th>327</th>\n",
       "      <td>2013-1-31</td>\n",
       "      <td>31</td>\n",
       "      <td>21</td>\n",
       "      <td>10</td>\n",
       "      <td>Fog-Snow</td>\n",
       "    </tr>\n",
       "    <tr>\n",
       "      <th>328</th>\n",
       "      <td>2013-2-1</td>\n",
       "      <td>16</td>\n",
       "      <td>11</td>\n",
       "      <td>5</td>\n",
       "      <td>Snow</td>\n",
       "    </tr>\n",
       "    <tr>\n",
       "      <th>329</th>\n",
       "      <td>2013-2-2</td>\n",
       "      <td>30</td>\n",
       "      <td>22</td>\n",
       "      <td>14</td>\n",
       "      <td>Snow</td>\n",
       "    </tr>\n",
       "    <tr>\n",
       "      <th>330</th>\n",
       "      <td>2013-2-3</td>\n",
       "      <td>27</td>\n",
       "      <td>19</td>\n",
       "      <td>11</td>\n",
       "      <td>Snow</td>\n",
       "    </tr>\n",
       "    <tr>\n",
       "      <th>331</th>\n",
       "      <td>2013-2-4</td>\n",
       "      <td>40</td>\n",
       "      <td>26</td>\n",
       "      <td>12</td>\n",
       "      <td>Snow</td>\n",
       "    </tr>\n",
       "    <tr>\n",
       "      <th>354</th>\n",
       "      <td>2013-2-27</td>\n",
       "      <td>40</td>\n",
       "      <td>36</td>\n",
       "      <td>32</td>\n",
       "      <td>Snow</td>\n",
       "    </tr>\n",
       "    <tr>\n",
       "      <th>356</th>\n",
       "      <td>2013-3-1</td>\n",
       "      <td>36</td>\n",
       "      <td>34</td>\n",
       "      <td>31</td>\n",
       "      <td>Snow</td>\n",
       "    </tr>\n",
       "    <tr>\n",
       "      <th>357</th>\n",
       "      <td>2013-3-2</td>\n",
       "      <td>32</td>\n",
       "      <td>30</td>\n",
       "      <td>27</td>\n",
       "      <td>Snow</td>\n",
       "    </tr>\n",
       "    <tr>\n",
       "      <th>358</th>\n",
       "      <td>2013-3-3</td>\n",
       "      <td>37</td>\n",
       "      <td>28</td>\n",
       "      <td>19</td>\n",
       "      <td>Snow</td>\n",
       "    </tr>\n",
       "    <tr>\n",
       "      <th>361</th>\n",
       "      <td>2013-3-6</td>\n",
       "      <td>32</td>\n",
       "      <td>31</td>\n",
       "      <td>29</td>\n",
       "      <td>Snow</td>\n",
       "    </tr>\n",
       "  </tbody>\n",
       "</table>\n",
       "</div>"
      ],
      "text/plain": [
       "            EDT  Max TemperatureF  Mean TemperatureF  Min TemperatureF  \\\n",
       "286  2012-12-21                29                 26                22   \n",
       "291  2012-12-26                33                 31                29   \n",
       "293  2012-12-28                33                 31                29   \n",
       "294  2012-12-29                32                 28                23   \n",
       "296  2012-12-31                36                 31                25   \n",
       "301    2013-1-5                39                 24                 9   \n",
       "320   2013-1-24                26                 19                11   \n",
       "321   2013-1-25                30                 25                20   \n",
       "327   2013-1-31                31                 21                10   \n",
       "328    2013-2-1                16                 11                 5   \n",
       "329    2013-2-2                30                 22                14   \n",
       "330    2013-2-3                27                 19                11   \n",
       "331    2013-2-4                40                 26                12   \n",
       "354   2013-2-27                40                 36                32   \n",
       "356    2013-3-1                36                 34                31   \n",
       "357    2013-3-2                32                 30                27   \n",
       "358    2013-3-3                37                 28                19   \n",
       "361    2013-3-6                32                 31                29   \n",
       "\n",
       "       Events  \n",
       "286  Fog-Snow  \n",
       "291  Fog-Snow  \n",
       "293      Snow  \n",
       "294  Fog-Snow  \n",
       "296  Fog-Snow  \n",
       "301      Snow  \n",
       "320      Snow  \n",
       "321      Snow  \n",
       "327  Fog-Snow  \n",
       "328      Snow  \n",
       "329      Snow  \n",
       "330      Snow  \n",
       "331      Snow  \n",
       "354      Snow  \n",
       "356      Snow  \n",
       "357      Snow  \n",
       "358      Snow  \n",
       "361      Snow  "
      ]
     },
     "execution_count": 24,
     "metadata": {},
     "output_type": "execute_result"
    }
   ],
   "source": [
    "dfw4 = dfw[['EDT', 'Max TemperatureF', 'Mean TemperatureF','Min TemperatureF',' Events']]\n",
    "dfw5 = dfw4[dfw4[' Events'].isin(['Snow','Fog-Snow'])]\n",
    "dfw5\n"
   ]
  },
  {
   "cell_type": "code",
   "execution_count": 23,
   "metadata": {},
   "outputs": [
    {
     "data": {
      "text/plain": [
       "<matplotlib.axes._subplots.AxesSubplot at 0x7f1834ebc2b0>"
      ]
     },
     "execution_count": 23,
     "metadata": {},
     "output_type": "execute_result"
    },
    {
     "data": {
      "image/png": "[encoded data removed]",
      "text/plain": [
       "<Figure size 432x288 with 1 Axes>"
      ]
     },
     "metadata": {},
     "output_type": "display_data"
    }
   ],
   "source": [
    "dfw5.plot()"
   ]
  },
  {
   "cell_type": "code",
   "execution_count": 25,
   "metadata": {},
   "outputs": [
    {
     "data": {
      "text/html": [
       "<div>\n",
       "<style scoped>\n",
       "    .dataframe tbody tr th:only-of-type {\n",
       "        vertical-align: middle;\n",
       "    }\n",
       "\n",
       "    .dataframe tbody tr th {\n",
       "        vertical-align: top;\n",
       "    }\n",
       "\n",
       "    .dataframe thead th {\n",
       "        text-align: right;\n",
       "    }\n",
       "</style>\n",
       "<table border=\"1\" class=\"dataframe\">\n",
       "  <thead>\n",
       "    <tr style=\"text-align: right;\">\n",
       "      <th></th>\n",
       "      <th>Max TemperatureF</th>\n",
       "      <th>Mean TemperatureF</th>\n",
       "      <th>Min TemperatureF</th>\n",
       "    </tr>\n",
       "  </thead>\n",
       "  <tbody>\n",
       "    <tr>\n",
       "      <th>count</th>\n",
       "      <td>18.000000</td>\n",
       "      <td>18.000000</td>\n",
       "      <td>18.000000</td>\n",
       "    </tr>\n",
       "    <tr>\n",
       "      <th>mean</th>\n",
       "      <td>32.166667</td>\n",
       "      <td>26.277778</td>\n",
       "      <td>19.888889</td>\n",
       "    </tr>\n",
       "    <tr>\n",
       "      <th>std</th>\n",
       "      <td>5.792998</td>\n",
       "      <td>6.210101</td>\n",
       "      <td>8.757443</td>\n",
       "    </tr>\n",
       "    <tr>\n",
       "      <th>min</th>\n",
       "      <td>16.000000</td>\n",
       "      <td>11.000000</td>\n",
       "      <td>5.000000</td>\n",
       "    </tr>\n",
       "    <tr>\n",
       "      <th>25%</th>\n",
       "      <td>30.000000</td>\n",
       "      <td>22.500000</td>\n",
       "      <td>11.250000</td>\n",
       "    </tr>\n",
       "    <tr>\n",
       "      <th>50%</th>\n",
       "      <td>32.000000</td>\n",
       "      <td>27.000000</td>\n",
       "      <td>21.000000</td>\n",
       "    </tr>\n",
       "    <tr>\n",
       "      <th>75%</th>\n",
       "      <td>36.000000</td>\n",
       "      <td>31.000000</td>\n",
       "      <td>28.500000</td>\n",
       "    </tr>\n",
       "    <tr>\n",
       "      <th>max</th>\n",
       "      <td>40.000000</td>\n",
       "      <td>36.000000</td>\n",
       "      <td>32.000000</td>\n",
       "    </tr>\n",
       "  </tbody>\n",
       "</table>\n",
       "</div>"
      ],
      "text/plain": [
       "       Max TemperatureF  Mean TemperatureF  Min TemperatureF\n",
       "count         18.000000          18.000000         18.000000\n",
       "mean          32.166667          26.277778         19.888889\n",
       "std            5.792998           6.210101          8.757443\n",
       "min           16.000000          11.000000          5.000000\n",
       "25%           30.000000          22.500000         11.250000\n",
       "50%           32.000000          27.000000         21.000000\n",
       "75%           36.000000          31.000000         28.500000\n",
       "max           40.000000          36.000000         32.000000"
      ]
     },
     "execution_count": 25,
     "metadata": {},
     "output_type": "execute_result"
    }
   ],
   "source": [
    "dfw5.describe()"
   ]
  },
  {
   "cell_type": "code",
   "execution_count": 35,
   "metadata": {},
   "outputs": [
    {
     "data": {
      "image/png": "[encoded data removed]",
      "text/plain": [
       "<Figure size 1080x360 with 4 Axes>"
      ]
     },
     "metadata": {},
     "output_type": "display_data"
    }
   ],
   "source": [
    "dfw5.hist(figsize=(15, 5), bins=15);"
   ]
  },
  {
   "cell_type": "code",
   "execution_count": 37,
   "metadata": {},
   "outputs": [
    {
     "data": {
      "image/png": "[encoded data removed]",
      "text/plain": [
       "<Figure size 432x288 with 1 Axes>"
      ]
     },
     "metadata": {},
     "output_type": "display_data"
    }
   ],
   "source": [
    "dfw5.plot('Max TemperatureF', 'Min TemperatureF', kind='scatter');"
   ]
  },
  {
   "cell_type": "code",
   "execution_count": 39,
   "metadata": {},
   "outputs": [
    {
     "data": {
      "image/png": "[encoded data removed]",
      "text/plain": [
       "<Figure size 432x432 with 3 Axes>"
      ]
     },
     "metadata": {},
     "output_type": "display_data"
    }
   ],
   "source": [
    "sns.jointplot(data=dfw5, x='Max TemperatureF', y='Min TemperatureF', kind='kde');"
   ]
  },
  {
   "cell_type": "code",
   "execution_count": 40,
   "metadata": {},
   "outputs": [
    {
     "data": {
      "text/plain": [
       "'3.5.0'"
      ]
     },
     "execution_count": 40,
     "metadata": {},
     "output_type": "execute_result"
    }
   ],
   "source": [
    "import plotly\n",
    "plotly.__version__"
   ]
  },
  {
   "cell_type": "code",
   "execution_count": 52,
   "metadata": {},
   "outputs": [
    {
     "data": {
      "text/html": [
       "<script type=\"text/javascript\">window.PlotlyConfig = {MathJaxConfig: 'local'};</script><script type=\"text/javascript\">if (window.MathJax) {MathJax.Hub.Config({SVG: {font: \"STIX-Web\"}});}</script><script>requirejs.config({paths: { 'plotly': ['https://cdn.plot.ly/plotly-latest.min']},});if(!window._Plotly) {require(['plotly'],function(plotly) {window._Plotly=plotly;});}</script>"
      ],
      "text/vnd.plotly.v1+html": [
       "<script type=\"text/javascript\">window.PlotlyConfig = {MathJaxConfig: 'local'};</script><script type=\"text/javascript\">if (window.MathJax) {MathJax.Hub.Config({SVG: {font: \"STIX-Web\"}});}</script><script>requirejs.config({paths: { 'plotly': ['https://cdn.plot.ly/plotly-latest.min']},});if(!window._Plotly) {require(['plotly'],function(plotly) {window._Plotly=plotly;});}</script>"
      ]
     },
     "metadata": {},
     "output_type": "display_data"
    },
    {
     "data": {
      "application/vnd.plotly.v1+json": {
       "config": {
        "linkText": "Export to plot.ly",
        "plotlyServerURL": "https://plot.ly",
        "showLink": false
       },
       "data": [
        {
         "marker": {
          "color": "red",
          "size": 12
         },
         "mode": "markers",
         "name": "Min",
         "type": "scatter",
         "uid": "191d4b94-5a71-409d-b420-6f767d40a43c",
         "x": [
          "2012-12-21",
          "2012-12-26",
          "2012-12-28",
          "2012-12-29",
          "2012-12-31",
          "2013-1-5",
          "2013-1-24",
          "2013-1-25",
          "2013-1-31",
          "2013-2-1",
          "2013-2-2",
          "2013-2-3",
          "2013-2-4",
          "2013-2-27",
          "2013-3-1",
          "2013-3-2",
          "2013-3-3",
          "2013-3-6"
         ],
         "y": [
          22,
          29,
          29,
          23,
          25,
          9,
          11,
          20,
          10,
          5,
          14,
          11,
          12,
          32,
          31,
          27,
          19,
          29
         ]
        },
        {
         "marker": {
          "color": "blue",
          "size": 12
         },
         "mode": "markers",
         "name": "Max",
         "type": "scatter",
         "uid": "418f65be-6be2-470b-9624-9b9566539660",
         "x": [
          "2012-12-21",
          "2012-12-26",
          "2012-12-28",
          "2012-12-29",
          "2012-12-31",
          "2013-1-5",
          "2013-1-24",
          "2013-1-25",
          "2013-1-31",
          "2013-2-1",
          "2013-2-2",
          "2013-2-3",
          "2013-2-4",
          "2013-2-27",
          "2013-3-1",
          "2013-3-2",
          "2013-3-3",
          "2013-3-6"
         ],
         "y": [
          29,
          33,
          33,
          32,
          36,
          39,
          26,
          30,
          31,
          16,
          30,
          27,
          40,
          40,
          36,
          32,
          37,
          32
         ]
        }
       ],
       "layout": {
        "title": {
         "text": "Snowing at San Francisco"
        },
        "xaxis": {
         "title": {
          "text": "Days"
         }
        },
        "yaxis": {
         "title": {
          "text": "Temperature"
         }
        }
       }
      },
      "text/html": [
       "<div id=\"0c93b8ae-bd87-491f-9ec1-971271151972\" style=\"height: 525px; width: 100%;\" class=\"plotly-graph-div\"></div><script type=\"text/javascript\">require([\"plotly\"], function(Plotly) { window.PLOTLYENV=window.PLOTLYENV || {};window.PLOTLYENV.BASE_URL=\"https://plot.ly\";Plotly.newPlot(\"0c93b8ae-bd87-491f-9ec1-971271151972\", [{\"marker\": {\"color\": \"red\", \"size\": 12}, \"mode\": \"markers\", \"name\": \"Min\", \"x\": [\"2012-12-21\", \"2012-12-26\", \"2012-12-28\", \"2012-12-29\", \"2012-12-31\", \"2013-1-5\", \"2013-1-24\", \"2013-1-25\", \"2013-1-31\", \"2013-2-1\", \"2013-2-2\", \"2013-2-3\", \"2013-2-4\", \"2013-2-27\", \"2013-3-1\", \"2013-3-2\", \"2013-3-3\", \"2013-3-6\"], \"y\": [22, 29, 29, 23, 25, 9, 11, 20, 10, 5, 14, 11, 12, 32, 31, 27, 19, 29], \"type\": \"scatter\", \"uid\": \"191d4b94-5a71-409d-b420-6f767d40a43c\"}, {\"marker\": {\"color\": \"blue\", \"size\": 12}, \"mode\": \"markers\", \"name\": \"Max\", \"x\": [\"2012-12-21\", \"2012-12-26\", \"2012-12-28\", \"2012-12-29\", \"2012-12-31\", \"2013-1-5\", \"2013-1-24\", \"2013-1-25\", \"2013-1-31\", \"2013-2-1\", \"2013-2-2\", \"2013-2-3\", \"2013-2-4\", \"2013-2-27\", \"2013-3-1\", \"2013-3-2\", \"2013-3-3\", \"2013-3-6\"], \"y\": [29, 33, 33, 32, 36, 39, 26, 30, 31, 16, 30, 27, 40, 40, 36, 32, 37, 32], \"type\": \"scatter\", \"uid\": \"418f65be-6be2-470b-9624-9b9566539660\"}], {\"title\": {\"text\": \"Snowing at San Francisco\"}, \"xaxis\": {\"title\": {\"text\": \"Days\"}}, \"yaxis\": {\"title\": {\"text\": \"Temperature\"}}}, {\"showLink\": false, \"linkText\": \"Export to plot.ly\", \"plotlyServerURL\": \"https://plot.ly\"})});</script><script type=\"text/javascript\">window.addEventListener(\"resize\", function(){window._Plotly.Plots.resize(document.getElementById(\"0c93b8ae-bd87-491f-9ec1-971271151972\"));});</script>"
      ],
      "text/vnd.plotly.v1+html": [
       "<div id=\"0c93b8ae-bd87-491f-9ec1-971271151972\" style=\"height: 525px; width: 100%;\" class=\"plotly-graph-div\"></div><script type=\"text/javascript\">require([\"plotly\"], function(Plotly) { window.PLOTLYENV=window.PLOTLYENV || {};window.PLOTLYENV.BASE_URL=\"https://plot.ly\";Plotly.newPlot(\"0c93b8ae-bd87-491f-9ec1-971271151972\", [{\"marker\": {\"color\": \"red\", \"size\": 12}, \"mode\": \"markers\", \"name\": \"Min\", \"x\": [\"2012-12-21\", \"2012-12-26\", \"2012-12-28\", \"2012-12-29\", \"2012-12-31\", \"2013-1-5\", \"2013-1-24\", \"2013-1-25\", \"2013-1-31\", \"2013-2-1\", \"2013-2-2\", \"2013-2-3\", \"2013-2-4\", \"2013-2-27\", \"2013-3-1\", \"2013-3-2\", \"2013-3-3\", \"2013-3-6\"], \"y\": [22, 29, 29, 23, 25, 9, 11, 20, 10, 5, 14, 11, 12, 32, 31, 27, 19, 29], \"type\": \"scatter\", \"uid\": \"191d4b94-5a71-409d-b420-6f767d40a43c\"}, {\"marker\": {\"color\": \"blue\", \"size\": 12}, \"mode\": \"markers\", \"name\": \"Max\", \"x\": [\"2012-12-21\", \"2012-12-26\", \"2012-12-28\", \"2012-12-29\", \"2012-12-31\", \"2013-1-5\", \"2013-1-24\", \"2013-1-25\", \"2013-1-31\", \"2013-2-1\", \"2013-2-2\", \"2013-2-3\", \"2013-2-4\", \"2013-2-27\", \"2013-3-1\", \"2013-3-2\", \"2013-3-3\", \"2013-3-6\"], \"y\": [29, 33, 33, 32, 36, 39, 26, 30, 31, 16, 30, 27, 40, 40, 36, 32, 37, 32], \"type\": \"scatter\", \"uid\": \"418f65be-6be2-470b-9624-9b9566539660\"}], {\"title\": {\"text\": \"Snowing at San Francisco\"}, \"xaxis\": {\"title\": {\"text\": \"Days\"}}, \"yaxis\": {\"title\": {\"text\": \"Temperature\"}}}, {\"showLink\": false, \"linkText\": \"Export to plot.ly\", \"plotlyServerURL\": \"https://plot.ly\"})});</script><script type=\"text/javascript\">window.addEventListener(\"resize\", function(){window._Plotly.Plots.resize(document.getElementById(\"0c93b8ae-bd87-491f-9ec1-971271151972\"));});</script>"
      ]
     },
     "metadata": {},
     "output_type": "display_data"
    }
   ],
   "source": [
    "import plotly.plotly as py\n",
    "import plotly.graph_objs as go\n",
    "import plotly.offline as offline\n",
    "\n",
    "plotly.offline.init_notebook_mode(connected=True)\n",
    "\n",
    "\n",
    "trace1 = {\"x\": dfw5['EDT'], \n",
    "          \"y\": dfw5['Min TemperatureF'], \n",
    "          \"marker\": {\"color\": \"red\", \"size\": 12}, \n",
    "          \"mode\": \"markers\", \n",
    "          \"name\": \"Min\", \n",
    "          \"type\": \"scatter\"\n",
    "}\n",
    "\n",
    "trace2 = {\"x\": dfw5['EDT'], \n",
    "          \"y\": dfw5['Max TemperatureF'], \n",
    "          \"marker\": {\"color\": \"blue\", \"size\": 12}, \n",
    "          \"mode\": \"markers\", \n",
    "          \"name\": \"Max\", \n",
    "          \"type\": \"scatter\", \n",
    "}\n",
    "\n",
    "data = [trace1, trace2]\n",
    "layout = {\"title\": \"Snowing at San Francisco\", \n",
    "          \"xaxis\": {\"title\": \"Days\", }, \n",
    "          \"yaxis\": {\"title\": \"Temperature\"}}\n",
    "\n",
    "fig = go.Figure(data=data, layout=layout)\n",
    "offline.iplot(fig, filename='basicplotly_try')"
   ]
  }
 ],
 "metadata": {
  "kernelspec": {
   "display_name": "Python 3",
   "language": "python",
   "name": "python3"
  },
  "language_info": {
   "codemirror_mode": {
    "name": "ipython",
    "version": 3
   },
   "file_extension": ".py",
   "mimetype": "text/x-python",
   "name": "python",
   "nbconvert_exporter": "python",
   "pygments_lexer": "ipython3",
   "version": "3.6.5"
  }
 },
 "nbformat": 4,
 "nbformat_minor": 2
}
